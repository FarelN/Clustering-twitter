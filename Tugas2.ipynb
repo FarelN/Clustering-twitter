{
  "cells": [
    {
      "cell_type": "markdown",
      "source": [
        "Install library snscrape supaya tidak perlu mengakses langsung Twitter API "
      ],
      "metadata": {
        "id": "VMiWXlN5o0GL"
      }
    },
    {
      "cell_type": "code",
      "execution_count": 1,
      "metadata": {
        "colab": {
          "base_uri": "https://localhost:8080/"
        },
        "id": "2BqfACvOJuXl",
        "outputId": "567625d9-b898-447c-de09-9aa76210adc9"
      },
      "outputs": [
        {
          "output_type": "stream",
          "name": "stdout",
          "text": [
            "Looking in indexes: https://pypi.org/simple, https://us-python.pkg.dev/colab-wheels/public/simple/\n",
            "Collecting snscrape\n",
            "  Downloading snscrape-0.3.4-py3-none-any.whl (35 kB)\n",
            "Requirement already satisfied: beautifulsoup4 in /usr/local/lib/python3.7/dist-packages (from snscrape) (4.6.3)\n",
            "Requirement already satisfied: lxml in /usr/local/lib/python3.7/dist-packages (from snscrape) (4.9.1)\n",
            "Requirement already satisfied: requests[socks] in /usr/local/lib/python3.7/dist-packages (from snscrape) (2.23.0)\n",
            "Requirement already satisfied: urllib3!=1.25.0,!=1.25.1,<1.26,>=1.21.1 in /usr/local/lib/python3.7/dist-packages (from requests[socks]->snscrape) (1.24.3)\n",
            "Requirement already satisfied: certifi>=2017.4.17 in /usr/local/lib/python3.7/dist-packages (from requests[socks]->snscrape) (2022.9.24)\n",
            "Requirement already satisfied: idna<3,>=2.5 in /usr/local/lib/python3.7/dist-packages (from requests[socks]->snscrape) (2.10)\n",
            "Requirement already satisfied: chardet<4,>=3.0.2 in /usr/local/lib/python3.7/dist-packages (from requests[socks]->snscrape) (3.0.4)\n",
            "Requirement already satisfied: PySocks!=1.5.7,>=1.5.6 in /usr/local/lib/python3.7/dist-packages (from requests[socks]->snscrape) (1.7.1)\n",
            "Installing collected packages: snscrape\n",
            "Successfully installed snscrape-0.3.4\n"
          ]
        }
      ],
      "source": [
        "!pip3 install snscrape"
      ]
    },
    {
      "cell_type": "markdown",
      "source": [
        "Fungsi libbrary langdetect adalah untuk mengimplementasi ulang pustaka deteksi bahasa Google ke Python"
      ],
      "metadata": {
        "id": "2OWgIAVYon8E"
      }
    },
    {
      "cell_type": "code",
      "execution_count": 2,
      "metadata": {
        "colab": {
          "base_uri": "https://localhost:8080/"
        },
        "id": "TPhZUSaHudFt",
        "outputId": "e8b80540-1b45-4e2f-b080-2ee9f5ba50c0"
      },
      "outputs": [
        {
          "output_type": "stream",
          "name": "stdout",
          "text": [
            "Looking in indexes: https://pypi.org/simple, https://us-python.pkg.dev/colab-wheels/public/simple/\n",
            "Collecting langdetect\n",
            "  Downloading langdetect-1.0.9.tar.gz (981 kB)\n",
            "\u001b[K     |████████████████████████████████| 981 kB 26.1 MB/s \n",
            "\u001b[?25hRequirement already satisfied: six in /usr/local/lib/python3.7/dist-packages (from langdetect) (1.15.0)\n",
            "Building wheels for collected packages: langdetect\n",
            "  Building wheel for langdetect (setup.py) ... \u001b[?25l\u001b[?25hdone\n",
            "  Created wheel for langdetect: filename=langdetect-1.0.9-py3-none-any.whl size=993242 sha256=dee3ec5aa088e2e3036548ead1b52df96fdb7eb6c44a42da059895fc48e1ced0\n",
            "  Stored in directory: /root/.cache/pip/wheels/c5/96/8a/f90c59ed25d75e50a8c10a1b1c2d4c402e4dacfa87f3aff36a\n",
            "Successfully built langdetect\n",
            "Installing collected packages: langdetect\n",
            "Successfully installed langdetect-1.0.9\n"
          ]
        }
      ],
      "source": [
        "!pip install langdetect"
      ]
    },
    {
      "cell_type": "markdown",
      "source": [
        "Mengimport snscrape modul twitter dan json"
      ],
      "metadata": {
        "id": "hFXQdeIaqhjT"
      }
    },
    {
      "cell_type": "code",
      "execution_count": 3,
      "metadata": {
        "id": "8vBbIXEIujBG"
      },
      "outputs": [],
      "source": [
        "import snscrape.modules.twitter as sntwitter\n",
        "import json\n",
        "from langdetect import detect"
      ]
    },
    {
      "cell_type": "markdown",
      "source": [
        "Menentukan sesuatu yang ingin dicari, disini saya mencari data dengan kata kunci Transformes dari tanggal 1 September sampai 3 Oktober dengan batas max tweet 100"
      ],
      "metadata": {
        "id": "lijXeyF0qtEK"
      }
    },
    {
      "cell_type": "code",
      "execution_count": 4,
      "metadata": {
        "id": "l_QxIZnJus5r"
      },
      "outputs": [],
      "source": [
        "keywords=['transformers']\n",
        "start=\"2022–09–01\"\n",
        "end =\"2022–10–03\"\n",
        "max_num=100\n",
        "fname='tweet.json' \n",
        "languages=['id','en']"
      ]
    },
    {
      "cell_type": "markdown",
      "source": [
        "Import library pandas untuk membuat tabel"
      ],
      "metadata": {
        "id": "GedS_4FVqscr"
      }
    },
    {
      "cell_type": "code",
      "execution_count": 5,
      "metadata": {
        "id": "v22swtjtuzEb"
      },
      "outputs": [],
      "source": [
        "import pandas as pd\n",
        "datatw=[]"
      ]
    },
    {
      "cell_type": "markdown",
      "source": [
        "Melakukan proses scrapping tweet berdasarkan data yang sudah ada sebelumnya."
      ],
      "metadata": {
        "id": "WtlttsP3rz7p"
      }
    },
    {
      "cell_type": "code",
      "execution_count": 6,
      "metadata": {
        "colab": {
          "base_uri": "https://localhost:8080/"
        },
        "id": "77Ko87Viu1iz",
        "outputId": "df95b255-7f31-4f03-dacf-7d45c6cb242a"
      },
      "outputs": [
        {
          "output_type": "stream",
          "name": "stdout",
          "text": [
            "{\"id\": 1581968602944925696, \"username\": \"mechazone\", \"date\": \"2022-10-17 11:21:21+00:00\", \"text\": \"Battle Beasts: Rubberneck Giraffe\\n\\n#inktober #inktober2022 #battlebeasts #battlebeast #transformers #takara #warrior #monster #sketch #drawing #conceptart #characterdesign #kaiju #keshi #actionfigures #toy #artober #giraffe #cyborg https://t.co/3gU5Ppd0pG\", \"url\": \"https://twitter.com/mechazone/status/1581968602944925696\"}\n",
            "{\"id\": 1581968426725056513, \"username\": \"s3duire\", \"date\": \"2022-10-17 11:20:39+00:00\", \"text\": \"Hope people can see that Alicent is, and has always been, the only half-decent one among all these nonsense people. \\nIf you can't see, go hug transformer. ☺️\", \"url\": \"https://twitter.com/s3duire/status/1581968426725056513\"}\n",
            "{\"id\": 1581968234898595840, \"username\": \"iain1st\", \"date\": \"2022-10-17 11:19:53+00:00\", \"text\": \"@BlackJackLegacy While it keeps doing the early access model, fuck no\", \"url\": \"https://twitter.com/iain1st/status/1581968234898595840\"}\n",
            "{\"id\": 1581968091423965184, \"username\": \"okumuM3\", \"date\": \"2022-10-17 11:19:19+00:00\", \"text\": \"I was the movie Transformer last night!! 昨夜は映画トランスフォーマーを見に行きました！\", \"url\": \"https://twitter.com/okumuM3/status/1581968091423965184\"}\n",
            "{\"id\": 1581968055491473408, \"username\": \"Stigmatronic\", \"date\": \"2022-10-17 11:19:10+00:00\", \"text\": \"Mek we sow the U-SEED, wey go RESET our destiny because as dis dey be now, e no dey o... Japa done cast and sapa done overload the transformer. #voteatiku #pdpconnect https://t.co/MIAd0We03C\", \"url\": \"https://twitter.com/Stigmatronic/status/1581968055491473408\"}\n",
            "{\"id\": 1581967954253877248, \"username\": \"barnes_neil\", \"date\": \"2022-10-17 11:18:46+00:00\", \"text\": \"@bushontheradio Jetfire!!! I always wanted that one, but it was £25 so the closest I got was the transformer section in the Argos catalogue.Not a toy as such I gave my N64 to my nephew's when I upgraded to the next thing, kind of want it back now.\", \"url\": \"https://twitter.com/barnes_neil/status/1581967954253877248\"}\n",
            "{\"id\": 1581967572375068672, \"username\": \"MrBlade_2017\", \"date\": \"2022-10-17 11:17:15+00:00\", \"text\": \"@SilentTandem Watch Transformers together and relieve the 80’s lol\", \"url\": \"https://twitter.com/MrBlade_2017/status/1581967572375068672\"}\n",
            "{\"id\": 1581967562182565889, \"username\": \"TitanTronics\", \"date\": \"2022-10-17 11:17:13+00:00\", \"text\": \"Exotic component inside a Mercedes Benz key?!\\nNah just a small transformer or inductor.\\nI expected better 😅\\n/ Open Circuit Book by @TubeTimeUS  infected me.. Now I have to sandpaper everything 🤣 https://t.co/tqaz3ssB6x\", \"url\": \"https://twitter.com/TitanTronics/status/1581967562182565889\"}\n",
            "{\"id\": 1581967428883402752, \"username\": \"USI_LauraC\", \"date\": \"2022-10-17 11:16:41+00:00\", \"text\": \"Protect your substations with SafeFence, a non-conductive perimeter barrier #fencing that provides #safety and security around #substations, #transformer yards and other #utility properties. https://t.co/OfrUeKk3RC\", \"url\": \"https://twitter.com/USI_LauraC/status/1581967428883402752\"}\n",
            "{\"id\": 1581967398030098433, \"username\": \"Verbaltrans\", \"date\": \"2022-10-17 11:16:33+00:00\", \"text\": \"What hurts is how these leaders go about shamefully celebrating their personal wins amidst the heat in the system. Is it that, the citizens have totally lost their ability to take back power from leaders they've entrusted it with? Have the citizens lost focus? Eii Ghana nie? #VT https://t.co/A8ni4ONr38\", \"url\": \"https://twitter.com/Verbaltrans/status/1581967398030098433\"}\n",
            "{\"id\": 1581967381563596802, \"username\": \"toygrind\", \"date\": \"2022-10-17 11:16:29+00:00\", \"text\": \"In powerfully predictable moves, I'm selling my Kingdom Cyclonus! A spectacular toy in perfect condition with blaster and instructions. £23 plus postage. Anyone into it? Hit me up in the replies! #transformers https://t.co/GAGX0oH0nK\", \"url\": \"https://twitter.com/toygrind/status/1581967381563596802\"}\n",
            "{\"id\": 1581967136842428416, \"username\": \"stringsdapo\", \"date\": \"2022-10-17 11:15:31+00:00\", \"text\": \"@ieServe HEY@IE, We dont have power in my area almost a month now and no effort been made. sometimes last year similar blackout when some cables attached to the transformer were stolen and we were ask to to pay for@IE  to fix it, now SAME THING AGAIN\", \"url\": \"https://twitter.com/stringsdapo/status/1581967136842428416\"}\n",
            "{\"id\": 1581967119386046465, \"username\": \"dangyoensim\", \"date\": \"2022-10-17 11:15:27+00:00\", \"text\": \"All forms of Lord Megatron (Transformers Unicron Saga: Armada 1, Energon 2, Cybertron 3 and Robots In Disguise 4)\\n\\nHappy Birthday Giorgio Locuratolo (Italian version)!!!\\n\\n(Arts by Tolliver on Pixiv, an unknown artist on DeviantArt, @EdPirrie and @dyemooch on Twitter) https://t.co/CwBHZrjz6W\", \"url\": \"https://twitter.com/dangyoensim/status/1581967119386046465\"}\n",
            "{\"id\": 1581966908525801472, \"username\": \"terriblespeaker\", \"date\": \"2022-10-17 11:14:37+00:00\", \"text\": \"@OoCPokemon Duraludon. looks like a Happy meal Transformers toy\", \"url\": \"https://twitter.com/terriblespeaker/status/1581966908525801472\"}\n",
            "{\"id\": 1581966869925199872, \"username\": \"Fernysattic\", \"date\": \"2022-10-17 11:14:27+00:00\", \"text\": \"@no_eyJ000 I feel like Studio Trigger would do something like this if they made a Transformers project. \\nAnd I love it, of course.\", \"url\": \"https://twitter.com/Fernysattic/status/1581966869925199872\"}\n",
            "{\"id\": 1581966810512969728, \"username\": \"OpticalCinema\", \"date\": \"2022-10-17 11:14:13+00:00\", \"text\": \"@ReillyBJohnson @tiktok_us Believe it’s in The Last Knight when they visit the transformer museum\", \"url\": \"https://twitter.com/OpticalCinema/status/1581966810512969728\"}\n",
            "{\"id\": 1581966740892057601, \"username\": \"tfwikibot\", \"date\": \"2022-10-17 11:13:57+00:00\", \"text\": \"No, not sure this other hand, the chest, you know plane isn't it run Crysis? Him lie they have man-made Transformers, right?\", \"url\": \"https://twitter.com/tfwikibot/status/1581966740892057601\"}\n",
            "{\"id\": 1581966587761807361, \"username\": \"i_am_aranda\", \"date\": \"2022-10-17 11:13:20+00:00\", \"text\": \"@THELIFE0FTRIBE i wonder if michael bay saw this scene and said “put him in transformers”\", \"url\": \"https://twitter.com/i_am_aranda/status/1581966587761807361\"}\n",
            "{\"id\": 1581966482262855682, \"username\": \"AInstigator\", \"date\": \"2022-10-17 11:12:55+00:00\", \"text\": \"In the Design Scheme of the New Human, \\n[human Female &amp; Male] both perfectly preserved.\\n\\nFeminine Humanoid Shape, \\nindeed The Most Elegant Except for Mysterious Geometric Shapes;\\n\\nIn the Non-Combat state, \\nthe Appearance of TransFormers should indeed be Feminine Humanoid Figures.\", \"url\": \"https://twitter.com/AInstigator/status/1581966482262855682\"}\n",
            "{\"id\": 1581966131736481795, \"username\": \"AshnodWatt\", \"date\": \"2022-10-17 11:11:31+00:00\", \"text\": \"@CZHazard @mellowshade I joined the Navy in 2002, my g1 transformers are still at my parents house in a tubs. Untouched\", \"url\": \"https://twitter.com/AshnodWatt/status/1581966131736481795\"}\n",
            "{\"id\": 1581965680257433601, \"username\": \"HobbyDrifter\", \"date\": \"2022-10-17 11:09:44+00:00\", \"text\": \"Remembering that time one of my followers posted some cringe, tagged me in it looking for support, and wound up getting me blocked/muted by like half the Transformers fans I follow.\\n\\nStill kind of raw about that.\", \"url\": \"https://twitter.com/HobbyDrifter/status/1581965680257433601\"}\n",
            "{\"id\": 1581965452690890752, \"username\": \"ohmyprimus\", \"date\": \"2022-10-17 11:08:50+00:00\", \"text\": \"⭐ [𝗣𝗿𝗲-𝗼𝗿𝗱𝗲𝗿] MetaGate G-04 G04 Air King (Transformers Beast Wars Terrorsaur) ⭐️\\nhttps://t.co/sqob38njKs\\n\\n#ohmyprimus #dewtoystore #transformers #transformerstoys #transformersfans #transformersmasterpiece #beastwars #TRANSFORMERSBEASTWARS #terrorsaur #MetaGate #airking https://t.co/8PQRSrFFzp\", \"url\": \"https://twitter.com/ohmyprimus/status/1581965452690890752\"}\n",
            "{\"id\": 1581965381211938816, \"username\": \"IndustrialPowC\", \"date\": \"2022-10-17 11:08:33+00:00\", \"text\": \"PVS100/230/230V transformer: protection 100VA 230VAC 230V IP54 cl. insulation: II BR https://t.co/zq6UpE7heO eBay https://t.co/idVbcnr9Th\", \"url\": \"https://twitter.com/IndustrialPowC/status/1581965381211938816\"}\n",
            "{\"id\": 1581965299586252800, \"username\": \"tffanbot\", \"date\": \"2022-10-17 11:08:13+00:00\", \"text\": \"Slashmark pretending to be a gun while they're losing the prime contest is going to ruin transformers forever\", \"url\": \"https://twitter.com/tffanbot/status/1581965299586252800\"}\n",
            "{\"id\": 1581964707254063104, \"username\": \"Verbaltrans\", \"date\": \"2022-10-17 11:05:52+00:00\", \"text\": \"What are you doing to help change the negative narrative of Ghana/Africa? Are you going to sit &amp; watch your future crumble right before you? This isn't an individual affair! We must swiftly build a united front of like-minded young Africans who'll selflessly &amp; diligently war #VT https://t.co/huzHojrDTs\", \"url\": \"https://twitter.com/Verbaltrans/status/1581964707254063104\"}\n",
            "{\"id\": 1581964686207389696, \"username\": \"Verbaltrans\", \"date\": \"2022-10-17 11:05:47+00:00\", \"text\": \"Never be too comfortable to ignore the sufferings of others. \\\"Charity is a great tool to eradicate negativity from a society\\\"-@Albysonik We must all join to fight the good fight against the diabolic leaders in Ghana &amp; beyond cos evil only prevails when good people do nothing #VT https://t.co/m0wHG6y2Xu\", \"url\": \"https://twitter.com/Verbaltrans/status/1581964686207389696\"}\n",
            "{\"id\": 1581964673037275137, \"username\": \"Verbaltrans\", \"date\": \"2022-10-17 11:05:44+00:00\", \"text\": \"... we're looking beyond ourselves because a success surrounded by failures is a terrible failure. Just because we can afford anything we want &amp; live very good lives doesn't mean we shouldn't fight for a better Ghana that will bless other lives too. WISE UP! #TheNewGhana #VT https://t.co/TUJG4keKpK\", \"url\": \"https://twitter.com/Verbaltrans/status/1581964673037275137\"}\n",
            "{\"id\": 1581964651101048832, \"username\": \"Verbaltrans\", \"date\": \"2022-10-17 11:05:38+00:00\", \"text\": \"As usual, we decided to change some $*s on hearing that $1 = ¢12😭Sadly, whenever we speak against the negativities of our African leaders, many think we're some hungry youths with no aim. We've got dollars and always changing and could keep quiet &amp; enjoy, but...\\n[A THREAD] #VT https://t.co/p3WVTxLZDI\", \"url\": \"https://twitter.com/Verbaltrans/status/1581964651101048832\"}\n",
            "{\"id\": 1581964468548145152, \"username\": \"Driver_270\", \"date\": \"2022-10-17 11:04:55+00:00\", \"text\": \"Overly Attached To Old Tech\\n\\n#PlasticRobots #Transformers https://t.co/9zBG1Yj6tW\", \"url\": \"https://twitter.com/Driver_270/status/1581964468548145152\"}\n",
            "{\"id\": 1581964410335076353, \"username\": \"zino_escobar1\", \"date\": \"2022-10-17 11:04:41+00:00\", \"text\": \"@Folasheycrown22 Izz like u wan make una transformer spoil Abi😂😒\", \"url\": \"https://twitter.com/zino_escobar1/status/1581964410335076353\"}\n",
            "{\"id\": 1581964403427409921, \"username\": \"Barustephen\", \"date\": \"2022-10-17 11:04:39+00:00\", \"text\": \"@UmemeLtd Kiwatule near wabiduku the issue is transformer i reported this issue like 2 weeks back but no response. Power is always on and off https://t.co/QvpomYzcUX\", \"url\": \"https://twitter.com/Barustephen/status/1581964403427409921\"}\n",
            "{\"id\": 1581964011872321539, \"username\": \"CanalParcSat\", \"date\": \"2022-10-17 11:03:06+00:00\", \"text\": \"TRANSFORMERS: A CENTELHA DA TERRA.\\n\\nTÍTULO CONFIRMADO.\\n\\nTRADUÇÕES EXISTEM.\\n\\nEM UM DESENHO DE VENDER BONECO.\\n\\nOBRIGADO GRANDE MANITU. https://t.co/Dj6EJFkQZh\", \"url\": \"https://twitter.com/CanalParcSat/status/1581964011872321539\"}\n",
            "{\"id\": 1581963993597431809, \"username\": \"ROTBTrailer\", \"date\": \"2022-10-17 11:03:02+00:00\", \"text\": \"No Trailer, but I finally got EARTHRISE PRIME!\\n\\nGuess I at least got a trailer today 😉 https://t.co/2f9zvl2oEN\", \"url\": \"https://twitter.com/ROTBTrailer/status/1581963993597431809\"}\n",
            "{\"id\": 1581963888341360640, \"username\": \"Liquormichy\", \"date\": \"2022-10-17 11:02:37+00:00\", \"text\": \"@yourfavwitchy Do it Comrade😌 make dem hug transformer 😂😂😂\", \"url\": \"https://twitter.com/Liquormichy/status/1581963888341360640\"}\n",
            "{\"id\": 1581963786998939648, \"username\": \"Svidomi_En\", \"date\": \"2022-10-17 11:02:12+00:00\", \"text\": \"Due to a short-term decrease in voltage, the reserve transformer of ZNPP's own needs was disconnected and the diesel generators were started.\", \"url\": \"https://twitter.com/Svidomi_En/status/1581963786998939648\"}\n",
            "{\"id\": 1581963751682899968, \"username\": \"SimmonsReek\", \"date\": \"2022-10-17 11:02:04+00:00\", \"text\": \"You notice how they can make fun of your looks but the moment you say a transformer got a wide back your transphobic https://t.co/dukkAYix0c\", \"url\": \"https://twitter.com/SimmonsReek/status/1581963751682899968\"}\n",
            "{\"id\": 1581963742799360000, \"username\": \"TransformersRID\", \"date\": \"2022-10-17 11:02:02+00:00\", \"text\": \"\\\"Freedom Is The Right Of All Sentient Beings.\\\" (Optimus Prime) #Transformers #Autobots\", \"url\": \"https://twitter.com/TransformersRID/status/1581963742799360000\"}\n",
            "{\"id\": 1581963677032681473, \"username\": \"the_unswerving\", \"date\": \"2022-10-17 11:01:46+00:00\", \"text\": \"How Transformer-Based Machine Learning Can Power Fintech Data Processing #Fintech #learning #machinelearning via https://t.co/yNOfVDxDtn https://t.co/nr7bTiHtj1\", \"url\": \"https://twitter.com/the_unswerving/status/1581963677032681473\"}\n",
            "{\"id\": 1581963630694010886, \"username\": \"BusinessScotMag\", \"date\": \"2022-10-17 11:01:35+00:00\", \"text\": \"Transformers Supporting the Rise of BESS Projects https://t.co/Fzvvkbovxr @wilsonpoweruk\", \"url\": \"https://twitter.com/BusinessScotMag/status/1581963630694010886\"}\n",
            "{\"id\": 1581963461608685568, \"username\": \"shaaf_asad\", \"date\": \"2022-10-17 11:00:55+00:00\", \"text\": \"@IESCO_Official All the wires are either cut down or temporarily fixed by the locals in sector I-16/2.\\nThere are mostly all the transformers stolen. Kindly look into this.\", \"url\": \"https://twitter.com/shaaf_asad/status/1581963461608685568\"}\n",
            "{\"id\": 1581963457481478147, \"username\": \"YebomYakubu\", \"date\": \"2022-10-17 11:00:54+00:00\", \"text\": \"It's so unfortunate that even after contributing money for the repair of the transformer at the Kano line, naibawa motor park area near the police station has been without power for over 6 months with no sign of reprieve anytime soon.\\n@kedcoplc \\nKindly do ur job.\\n#giveuslight\", \"url\": \"https://twitter.com/YebomYakubu/status/1581963457481478147\"}\n",
            "{\"id\": 1581963453920841728, \"username\": \"FJay3456\", \"date\": \"2022-10-17 11:00:53+00:00\", \"text\": \"Install this app, Watch and download \\\"Transformers: The Last Knight\\\" at no cost. https://t.co/h7UdlPoUtg https://t.co/bqUD2kSBbp\", \"url\": \"https://twitter.com/FJay3456/status/1581963453920841728\"}\n",
            "{\"id\": 1581963452419280897, \"username\": \"ButterfliesDoIt\", \"date\": \"2022-10-17 11:00:53+00:00\", \"text\": \"Rise and Grind Transformers! Put out good vibes today...you will get them back.\", \"url\": \"https://twitter.com/ButterfliesDoIt/status/1581963452419280897\"}\n",
            "{\"id\": 1581962095348035585, \"username\": \"Keileb__\", \"date\": \"2022-10-17 10:55:29+00:00\", \"text\": \"@Everestceo @Magizanii @Nyaberih_ Might get into trouble but there's this kagreen wire inakaa kama belt inside just karibu na transformer. Cut it alafu on the end hapo, shika na masking tape or anything isibaki tu ivo open...open your decorder hio time yakuboot before it completes switch it off, and then on again\", \"url\": \"https://twitter.com/Keileb__/status/1581962095348035585\"}\n",
            "{\"id\": 1581962069884092417, \"username\": \"UmemeLtd\", \"date\": \"2022-10-17 10:55:23+00:00\", \"text\": \"#OutageAlert!\\nOur customers around Namugongo Janda, we are working on the transformer supplying that area. Restoration is expected by 5pm. Kindly bear with us. All inconveniences are highly regretted..../NR https://t.co/5EOopujl0W\", \"url\": \"https://twitter.com/UmemeLtd/status/1581962069884092417\"}\n",
            "{\"id\": 1581961986664906755, \"username\": \"EeveeGavin\", \"date\": \"2022-10-17 10:55:03+00:00\", \"text\": \"@CheapazoidArt @paramountplus No I know, I just am not watching until a review comes out. Only interesting thing in this is looking to be megatron being good instead of evil. Otherwise it looks ass. Maybe worse than RID which is saying something. Now enjoy a gif from Transformers prime. https://t.co/NlaPO80Ddw\", \"url\": \"https://twitter.com/EeveeGavin/status/1581961986664906755\"}\n",
            "{\"id\": 1581961969493770240, \"username\": \"linkewire\", \"date\": \"2022-10-17 10:54:59+00:00\", \"text\": \"Transformer Monitoring System Market is projected to expand at a steady CAGR over the forecast by 2031 | ABB Ltd., Eaton Corporation plc, Honeywell International Inc., Schneider Electric SE, Siemens AG, https://t.co/uHtKmRemE7\", \"url\": \"https://twitter.com/linkewire/status/1581961969493770240\"}\n",
            "{\"id\": 1581961967085883392, \"username\": \"TransformerTec3\", \"date\": \"2022-10-17 10:54:59+00:00\", \"text\": \"It is with great pleasure that we announce that the OCTOBER 2022 Issue of the Transformer Technology magazine is now available online!\\n➡Read more here: https://t.co/eihKeKlm1L https://t.co/QhQpDdCLB2\", \"url\": \"https://twitter.com/TransformerTec3/status/1581961967085883392\"}\n",
            "{\"id\": 1581961961432297472, \"username\": \"AssetEnergy\", \"date\": \"2022-10-17 10:54:57+00:00\", \"text\": \"Rapid addition of oil into #transformer high voltage bushings\\nFor more inquiries, kindly reach out to us via sales@assetmatrixenergy.com, assetmatrixenergy3@gmail.com / +2348089083495, +2348176153012.\\n#predictivemaintenance \\n#assetmaintenance \\n#TransformerOil \\n#electricalsafety https://t.co/yeqw5ihVn4\", \"url\": \"https://twitter.com/AssetEnergy/status/1581961961432297472\"}\n",
            "{\"id\": 1581961892842459138, \"username\": \"TheBigGolgowski\", \"date\": \"2022-10-17 10:54:41+00:00\", \"text\": \"Damaged transformers can’t stop the FL Man but it can delay them a bit. New episode is out now! It was def worth the wait https://t.co/2ViXjKuXFs\", \"url\": \"https://twitter.com/TheBigGolgowski/status/1581961892842459138\"}\n",
            "{\"id\": 1581961852665597952, \"username\": \"Cyber54prime\", \"date\": \"2022-10-17 10:54:31+00:00\", \"text\": \"#lostlightfest 2022 day 15\\n#shockwave as rouge the bat\\nIdea from a friend\\n\\n#transformers #lostlightfest2022 #tfp https://t.co/vBDASKU2gC\", \"url\": \"https://twitter.com/Cyber54prime/status/1581961852665597952\"}\n",
            "{\"id\": 1581961665926483968, \"username\": \"rezi97398832\", \"date\": \"2022-10-17 10:53:47+00:00\", \"text\": \"BIG SHEGEEZ is the deal take it😂😂😂🤣 or hang transformer\\nTWENTY SEVEN DAYS TO P27\\n#sheggezfc\", \"url\": \"https://twitter.com/rezi97398832/status/1581961665926483968\"}\n",
            "{\"id\": 1581961563048591360, \"username\": \"CheapazoidArt\", \"date\": \"2022-10-17 10:53:22+00:00\", \"text\": \"@EeveeGavin @paramountplus Transformers\", \"url\": \"https://twitter.com/CheapazoidArt/status/1581961563048591360\"}\n",
            "{\"id\": 1581961481117401089, \"username\": \"IndustrialPowC\", \"date\": \"2022-10-17 10:53:03+00:00\", \"text\": \"TTS600/D230/17-17V Transformer: Ring Core 600VA 230VAC 17V 17V 17.64A 17.64A BR https://t.co/8LSzA8Ngs4 eBay https://t.co/1tS8BcWe1D\", \"url\": \"https://twitter.com/IndustrialPowC/status/1581961481117401089\"}\n",
            "{\"id\": 1581961443536416773, \"username\": \"Anintemanreza\", \"date\": \"2022-10-17 10:52:54+00:00\", \"text\": \"@bangghan23 @Askrlfess Aku pernah di posisi semua aku yg kerjain krn cowok di rumah cm kakak dan dia ngekost. Asli mending angkat2 deh, soalnya sekali selesai. Cucian piring, baju, nyapu, itu nggak ada berhentinya. Giliran aku ngekost sebulan pas plg disuruh bersihin wc padahal kakak selalu di rumah 🤧\", \"url\": \"https://twitter.com/Anintemanreza/status/1581961443536416773\"}\n",
            "{\"id\": 1581961128841596929, \"username\": \"tonydake\", \"date\": \"2022-10-17 10:51:39+00:00\", \"text\": \"@Save_Moslem Ternyata dia memiliki teknologi transformer yg bisa berubah jadi manusia...\", \"url\": \"https://twitter.com/tonydake/status/1581961128841596929\"}\n",
            "{\"id\": 1581960949820698625, \"username\": \"_riLeyOG\", \"date\": \"2022-10-17 10:50:56+00:00\", \"text\": \"@Dreamchaser1017 Hug a transformer\", \"url\": \"https://twitter.com/_riLeyOG/status/1581960949820698625\"}\n"
          ]
        }
      ],
      "source": [
        "for keyword in keywords:\n",
        "   \n",
        "    for i, tweet in enumerate (sntwitter.TwitterSearchScraper(f'{keyword} ').get_items()):\n",
        "        \n",
        "        try:\n",
        "            lan=detect(tweet.content)\n",
        "        except:\n",
        "            lan='error'\n",
        "        if i == max_num:\n",
        "            break\n",
        "        if lan in languages:\n",
        "            data = {'id': tweet.id, 'username':tweet.username, 'date': tweet.date, 'text': tweet.content,'url':tweet.url}\n",
        "            datatw.append(tweet.content)\n",
        "            with open(fname, 'a+', encoding='utf-8') as f:\n",
        "                line = json.dumps(data, ensure_ascii=False,default=str)\n",
        "                print(line)\n",
        "                f.write(line)\n",
        "                f.write('\\n')"
      ]
    },
    {
      "cell_type": "code",
      "execution_count": 7,
      "metadata": {
        "colab": {
          "base_uri": "https://localhost:8080/"
        },
        "id": "d6n318tyu5SU",
        "outputId": "856edd3d-08e4-4ab9-be8a-754963c31300"
      },
      "outputs": [
        {
          "output_type": "execute_result",
          "data": {
            "text/plain": [
              "['Battle Beasts: Rubberneck Giraffe\\n\\n#inktober #inktober2022 #battlebeasts #battlebeast #transformers #takara #warrior #monster #sketch #drawing #conceptart #characterdesign #kaiju #keshi #actionfigures #toy #artober #giraffe #cyborg https://t.co/3gU5Ppd0pG',\n",
              " \"Hope people can see that Alicent is, and has always been, the only half-decent one among all these nonsense people. \\nIf you can't see, go hug transformer. ☺️\",\n",
              " '@BlackJackLegacy While it keeps doing the early access model, fuck no',\n",
              " 'I was the movie Transformer last night!! 昨夜は映画トランスフォーマーを見に行きました！',\n",
              " 'Mek we sow the U-SEED, wey go RESET our destiny because as dis dey be now, e no dey o... Japa done cast and sapa done overload the transformer. #voteatiku #pdpconnect https://t.co/MIAd0We03C',\n",
              " \"@bushontheradio Jetfire!!! I always wanted that one, but it was £25 so the closest I got was the transformer section in the Argos catalogue.Not a toy as such I gave my N64 to my nephew's when I upgraded to the next thing, kind of want it back now.\",\n",
              " '@SilentTandem Watch Transformers together and relieve the 80’s lol',\n",
              " 'Exotic component inside a Mercedes Benz key?!\\nNah just a small transformer or inductor.\\nI expected better 😅\\n/ Open Circuit Book by @TubeTimeUS  infected me.. Now I have to sandpaper everything 🤣 https://t.co/tqaz3ssB6x',\n",
              " 'Protect your substations with SafeFence, a non-conductive perimeter barrier #fencing that provides #safety and security around #substations, #transformer yards and other #utility properties. https://t.co/OfrUeKk3RC',\n",
              " \"What hurts is how these leaders go about shamefully celebrating their personal wins amidst the heat in the system. Is it that, the citizens have totally lost their ability to take back power from leaders they've entrusted it with? Have the citizens lost focus? Eii Ghana nie? #VT https://t.co/A8ni4ONr38\",\n",
              " \"In powerfully predictable moves, I'm selling my Kingdom Cyclonus! A spectacular toy in perfect condition with blaster and instructions. £23 plus postage. Anyone into it? Hit me up in the replies! #transformers https://t.co/GAGX0oH0nK\",\n",
              " '@ieServe HEY@IE, We dont have power in my area almost a month now and no effort been made. sometimes last year similar blackout when some cables attached to the transformer were stolen and we were ask to to pay for@IE  to fix it, now SAME THING AGAIN',\n",
              " 'All forms of Lord Megatron (Transformers Unicron Saga: Armada 1, Energon 2, Cybertron 3 and Robots In Disguise 4)\\n\\nHappy Birthday Giorgio Locuratolo (Italian version)!!!\\n\\n(Arts by Tolliver on Pixiv, an unknown artist on DeviantArt, @EdPirrie and @dyemooch on Twitter) https://t.co/CwBHZrjz6W',\n",
              " '@OoCPokemon Duraludon. looks like a Happy meal Transformers toy',\n",
              " '@no_eyJ000 I feel like Studio Trigger would do something like this if they made a Transformers project. \\nAnd I love it, of course.',\n",
              " '@ReillyBJohnson @tiktok_us Believe it’s in The Last Knight when they visit the transformer museum',\n",
              " \"No, not sure this other hand, the chest, you know plane isn't it run Crysis? Him lie they have man-made Transformers, right?\",\n",
              " '@THELIFE0FTRIBE i wonder if michael bay saw this scene and said “put him in transformers”',\n",
              " 'In the Design Scheme of the New Human, \\n[human Female &amp; Male] both perfectly preserved.\\n\\nFeminine Humanoid Shape, \\nindeed The Most Elegant Except for Mysterious Geometric Shapes;\\n\\nIn the Non-Combat state, \\nthe Appearance of TransFormers should indeed be Feminine Humanoid Figures.',\n",
              " '@CZHazard @mellowshade I joined the Navy in 2002, my g1 transformers are still at my parents house in a tubs. Untouched',\n",
              " 'Remembering that time one of my followers posted some cringe, tagged me in it looking for support, and wound up getting me blocked/muted by like half the Transformers fans I follow.\\n\\nStill kind of raw about that.',\n",
              " '⭐ [𝗣𝗿𝗲-𝗼𝗿𝗱𝗲𝗿] MetaGate G-04 G04 Air King (Transformers Beast Wars Terrorsaur) ⭐️\\nhttps://t.co/sqob38njKs\\n\\n#ohmyprimus #dewtoystore #transformers #transformerstoys #transformersfans #transformersmasterpiece #beastwars #TRANSFORMERSBEASTWARS #terrorsaur #MetaGate #airking https://t.co/8PQRSrFFzp',\n",
              " 'PVS100/230/230V transformer: protection 100VA 230VAC 230V IP54 cl. insulation: II BR https://t.co/zq6UpE7heO eBay https://t.co/idVbcnr9Th',\n",
              " \"Slashmark pretending to be a gun while they're losing the prime contest is going to ruin transformers forever\",\n",
              " \"What are you doing to help change the negative narrative of Ghana/Africa? Are you going to sit &amp; watch your future crumble right before you? This isn't an individual affair! We must swiftly build a united front of like-minded young Africans who'll selflessly &amp; diligently war #VT https://t.co/huzHojrDTs\",\n",
              " 'Never be too comfortable to ignore the sufferings of others. \"Charity is a great tool to eradicate negativity from a society\"-@Albysonik We must all join to fight the good fight against the diabolic leaders in Ghana &amp; beyond cos evil only prevails when good people do nothing #VT https://t.co/m0wHG6y2Xu',\n",
              " \"... we're looking beyond ourselves because a success surrounded by failures is a terrible failure. Just because we can afford anything we want &amp; live very good lives doesn't mean we shouldn't fight for a better Ghana that will bless other lives too. WISE UP! #TheNewGhana #VT https://t.co/TUJG4keKpK\",\n",
              " \"As usual, we decided to change some $*s on hearing that $1 = ¢12😭Sadly, whenever we speak against the negativities of our African leaders, many think we're some hungry youths with no aim. We've got dollars and always changing and could keep quiet &amp; enjoy, but...\\n[A THREAD] #VT https://t.co/p3WVTxLZDI\",\n",
              " 'Overly Attached To Old Tech\\n\\n#PlasticRobots #Transformers https://t.co/9zBG1Yj6tW',\n",
              " '@Folasheycrown22 Izz like u wan make una transformer spoil Abi😂😒',\n",
              " '@UmemeLtd Kiwatule near wabiduku the issue is transformer i reported this issue like 2 weeks back but no response. Power is always on and off https://t.co/QvpomYzcUX',\n",
              " 'TRANSFORMERS: A CENTELHA DA TERRA.\\n\\nTÍTULO CONFIRMADO.\\n\\nTRADUÇÕES EXISTEM.\\n\\nEM UM DESENHO DE VENDER BONECO.\\n\\nOBRIGADO GRANDE MANITU. https://t.co/Dj6EJFkQZh',\n",
              " 'No Trailer, but I finally got EARTHRISE PRIME!\\n\\nGuess I at least got a trailer today 😉 https://t.co/2f9zvl2oEN',\n",
              " '@yourfavwitchy Do it Comrade😌 make dem hug transformer 😂😂😂',\n",
              " \"Due to a short-term decrease in voltage, the reserve transformer of ZNPP's own needs was disconnected and the diesel generators were started.\",\n",
              " 'You notice how they can make fun of your looks but the moment you say a transformer got a wide back your transphobic https://t.co/dukkAYix0c',\n",
              " '\"Freedom Is The Right Of All Sentient Beings.\" (Optimus Prime) #Transformers #Autobots',\n",
              " 'How Transformer-Based Machine Learning Can Power Fintech Data Processing #Fintech #learning #machinelearning via https://t.co/yNOfVDxDtn https://t.co/nr7bTiHtj1',\n",
              " 'Transformers Supporting the Rise of BESS Projects https://t.co/Fzvvkbovxr @wilsonpoweruk',\n",
              " '@IESCO_Official All the wires are either cut down or temporarily fixed by the locals in sector I-16/2.\\nThere are mostly all the transformers stolen. Kindly look into this.',\n",
              " \"It's so unfortunate that even after contributing money for the repair of the transformer at the Kano line, naibawa motor park area near the police station has been without power for over 6 months with no sign of reprieve anytime soon.\\n@kedcoplc \\nKindly do ur job.\\n#giveuslight\",\n",
              " 'Install this app, Watch and download \"Transformers: The Last Knight\" at no cost. https://t.co/h7UdlPoUtg https://t.co/bqUD2kSBbp',\n",
              " 'Rise and Grind Transformers! Put out good vibes today...you will get them back.',\n",
              " \"@Everestceo @Magizanii @Nyaberih_ Might get into trouble but there's this kagreen wire inakaa kama belt inside just karibu na transformer. Cut it alafu on the end hapo, shika na masking tape or anything isibaki tu ivo open...open your decorder hio time yakuboot before it completes switch it off, and then on again\",\n",
              " '#OutageAlert!\\nOur customers around Namugongo Janda, we are working on the transformer supplying that area. Restoration is expected by 5pm. Kindly bear with us. All inconveniences are highly regretted..../NR https://t.co/5EOopujl0W',\n",
              " '@CheapazoidArt @paramountplus No I know, I just am not watching until a review comes out. Only interesting thing in this is looking to be megatron being good instead of evil. Otherwise it looks ass. Maybe worse than RID which is saying something. Now enjoy a gif from Transformers prime. https://t.co/NlaPO80Ddw',\n",
              " 'Transformer Monitoring System Market is projected to expand at a steady CAGR over the forecast by 2031 |\\xa0ABB Ltd.,\\xa0Eaton Corporation plc,\\xa0Honeywell International Inc.,\\xa0Schneider Electric SE, Siemens\\xa0AG, https://t.co/uHtKmRemE7',\n",
              " 'It is with great pleasure that we announce that the OCTOBER 2022 Issue of the Transformer Technology magazine is now available online!\\n➡Read more here: https://t.co/eihKeKlm1L https://t.co/QhQpDdCLB2',\n",
              " 'Rapid addition of oil into #transformer high voltage bushings\\nFor more inquiries, kindly reach out to us via sales@assetmatrixenergy.com, assetmatrixenergy3@gmail.com / +2348089083495, +2348176153012.\\n#predictivemaintenance \\n#assetmaintenance \\n#TransformerOil \\n#electricalsafety https://t.co/yeqw5ihVn4',\n",
              " 'Damaged transformers can’t stop the FL Man but it can delay them a bit. New episode is out now! It was def worth the wait https://t.co/2ViXjKuXFs',\n",
              " '#lostlightfest 2022 day 15\\n#shockwave as rouge the bat\\nIdea from a friend\\n\\n#transformers #lostlightfest2022 #tfp https://t.co/vBDASKU2gC',\n",
              " 'BIG SHEGEEZ is the deal take it😂😂😂🤣 or hang transformer\\nTWENTY SEVEN DAYS TO P27\\n#sheggezfc',\n",
              " '@EeveeGavin @paramountplus Transformers',\n",
              " 'TTS600/D230/17-17V Transformer: Ring Core 600VA 230VAC 17V 17V 17.64A 17.64A BR https://t.co/8LSzA8Ngs4 eBay https://t.co/1tS8BcWe1D',\n",
              " '@bangghan23 @Askrlfess Aku pernah di posisi semua aku yg kerjain krn cowok di rumah cm kakak dan dia ngekost. Asli mending angkat2 deh, soalnya sekali selesai. Cucian piring, baju, nyapu, itu nggak ada berhentinya. Giliran aku ngekost sebulan pas plg disuruh bersihin wc padahal kakak selalu di rumah 🤧',\n",
              " '@Save_Moslem Ternyata dia memiliki teknologi transformer yg bisa berubah jadi manusia...',\n",
              " '@Dreamchaser1017 Hug a transformer']"
            ]
          },
          "metadata": {},
          "execution_count": 7
        }
      ],
      "source": [
        "datatw"
      ]
    },
    {
      "cell_type": "markdown",
      "source": [
        "Install library sastrawi untuk mengubah kata ke bentuk dasar"
      ],
      "metadata": {
        "id": "q7PzXObcsBdR"
      }
    },
    {
      "cell_type": "code",
      "execution_count": 8,
      "metadata": {
        "colab": {
          "base_uri": "https://localhost:8080/"
        },
        "id": "3gkq6rxTu9w2",
        "outputId": "697f3455-0aee-4349-82be-14385722861a"
      },
      "outputs": [
        {
          "output_type": "stream",
          "name": "stdout",
          "text": [
            "Looking in indexes: https://pypi.org/simple, https://us-python.pkg.dev/colab-wheels/public/simple/\n",
            "Collecting Sastrawi\n",
            "  Downloading Sastrawi-1.0.1-py2.py3-none-any.whl (209 kB)\n",
            "\u001b[K     |████████████████████████████████| 209 kB 25.9 MB/s \n",
            "\u001b[?25hInstalling collected packages: Sastrawi\n",
            "Successfully installed Sastrawi-1.0.1\n"
          ]
        }
      ],
      "source": [
        "!pip install Sastrawi"
      ]
    },
    {
      "cell_type": "code",
      "execution_count": 9,
      "metadata": {
        "colab": {
          "base_uri": "https://localhost:8080/"
        },
        "id": "uq4wx_QwvBQb",
        "outputId": "aedbbcff-9c7d-42ce-d4d3-d9f9a6a32bb0"
      },
      "outputs": [
        {
          "output_type": "stream",
          "name": "stdout",
          "text": [
            "Looking in indexes: https://pypi.org/simple, https://us-python.pkg.dev/colab-wheels/public/simple/\n",
            "Requirement already satisfied: beautifulsoup4 in /usr/local/lib/python3.7/dist-packages (4.6.3)\n"
          ]
        }
      ],
      "source": [
        "!pip install beautifulsoup4"
      ]
    },
    {
      "cell_type": "markdown",
      "source": [
        "Melakukan proses case folding, stemming, dan filtering"
      ],
      "metadata": {
        "id": "qDh-SJyjsrhE"
      }
    },
    {
      "cell_type": "code",
      "execution_count": 10,
      "metadata": {
        "id": "vKcKb001vGqR"
      },
      "outputs": [],
      "source": [
        "import re\n",
        "import string\n",
        "from Sastrawi.Stemmer.StemmerFactory import StemmerFactory# create stemmer\n",
        "factory = StemmerFactory()\n",
        "stemmer = factory.create_stemmer()# stemming process\n",
        "# import StopWordRemoverFactory class\n",
        "from Sastrawi.StopWordRemover.StopWordRemoverFactory import StopWordRemoverFactory\n",
        "factory = StopWordRemoverFactory()\n",
        "stopword = factory.create_stop_word_remover()\n",
        "documents_clean=[]\n",
        "\n",
        "for d in datatw:\n",
        "\n",
        "    # Remove Unicode\n",
        "    document_test = re.sub(r'[^\\x00-\\x7F]+', ' ', d)\n",
        "    # Remove URL\n",
        "    document_test = re.sub(r'http\\S+', '', document_test)\n",
        "    # Remove Mentions\n",
        "    document_test = re.sub(r'@\\w+', '', document_test)\n",
        "    # Lowercase the document\n",
        "    document_test = document_test.lower()\n",
        "    # Remove punctuations\n",
        "    document_test = re.sub(r'[%s]' % re.escape(string.punctuation), ' ', document_test)\n",
        "    # Lowercase the numbers\n",
        "    document_test = re.sub(r'[0-9]', '', document_test)\n",
        "    # Remove the doubled space\n",
        "    outputstop = re.sub(r'\\s{2,}', ' ', document_test)\n",
        "\n",
        "    outputstem= stemmer.stem(d)\n",
        "    d= stopword.remove(outputstem)\n",
        "    documents_clean.append(outputstop)"
      ]
    },
    {
      "cell_type": "code",
      "execution_count": 11,
      "metadata": {
        "colab": {
          "base_uri": "https://localhost:8080/"
        },
        "id": "RpRAYLlovIuq",
        "outputId": "0bbbab63-2662-45de-eebb-80411f46bf89"
      },
      "outputs": [
        {
          "output_type": "execute_result",
          "data": {
            "text/plain": [
              "['battle beasts rubberneck giraffe inktober inktober battlebeasts battlebeast transformers takara warrior monster sketch drawing conceptart characterdesign kaiju keshi actionfigures toy artober giraffe cyborg ',\n",
              " 'hope people can see that alicent is and has always been the only half decent one among all these nonsense people if you can t see go hug transformer ',\n",
              " ' while it keeps doing the early access model fuck no',\n",
              " 'i was the movie transformer last night ',\n",
              " 'mek we sow the u seed wey go reset our destiny because as dis dey be now e no dey o japa done cast and sapa done overload the transformer voteatiku pdpconnect ']"
            ]
          },
          "metadata": {},
          "execution_count": 11
        }
      ],
      "source": [
        "documents_clean[0:5]"
      ]
    },
    {
      "cell_type": "markdown",
      "source": [
        "Metode Tf idf Vectorizer untuk mempertimbangkan apakah data tersebut relevan terhadap isi dokumen"
      ],
      "metadata": {
        "id": "qw_wwEfKtZgp"
      }
    },
    {
      "cell_type": "code",
      "execution_count": 12,
      "metadata": {
        "colab": {
          "base_uri": "https://localhost:8080/"
        },
        "id": "TR4-56O1vOLq",
        "outputId": "314da78d-f827-4d4f-dbd9-6950dbaa6b97"
      },
      "outputs": [
        {
          "output_type": "stream",
          "name": "stderr",
          "text": [
            "/usr/local/lib/python3.7/dist-packages/sklearn/utils/deprecation.py:87: FutureWarning: Function get_feature_names is deprecated; get_feature_names is deprecated in 1.0 and will be removed in 1.2. Please use get_feature_names_out instead.\n",
            "  warnings.warn(msg, category=FutureWarning)\n"
          ]
        }
      ],
      "source": [
        "from sklearn.feature_extraction.text import TfidfVectorizer\n",
        "import pandas as pd\n",
        "tfidfvectorizer = TfidfVectorizer(analyzer='word')\n",
        "tfidf_wm = tfidfvectorizer.fit_transform(documents_clean)\n",
        "tfidf_tokens = tfidfvectorizer.get_feature_names()"
      ]
    },
    {
      "cell_type": "markdown",
      "source": [
        "Metode CountVectorizer untuk menghitung frekuensi data dalam dokumen"
      ],
      "metadata": {
        "id": "4KWIyWKit1Kh"
      }
    },
    {
      "cell_type": "code",
      "execution_count": 13,
      "metadata": {
        "id": "8n8Vb352vSbA",
        "colab": {
          "base_uri": "https://localhost:8080/",
          "height": 530
        },
        "outputId": "daa4c8d1-d3c9-4097-a1b4-3cb0f37b2182"
      },
      "outputs": [
        {
          "output_type": "execute_result",
          "data": {
            "text/plain": [
              "Text(0.5, 1.0, 'Most Frequently Occuring Words - Top 20')"
            ]
          },
          "metadata": {},
          "execution_count": 13
        },
        {
          "output_type": "display_data",
          "data": {
            "text/plain": [
              "<Figure size 1080x504 with 1 Axes>"
            ],
            "image/png": "[encoded data removed]"
          },
          "metadata": {
            "needs_background": "light"
          }
        }
      ],
      "source": [
        "from sklearn.feature_extraction.text import CountVectorizer \n",
        "import matplotlib.pyplot as plt\n",
        "import numpy as np # linear algebra\n",
        "import pandas as pd # data processing, CSV file I/O (e.g. pd.read_csv)\n",
        "cv = CountVectorizer()\n",
        "words = cv.fit_transform(documents_clean)\n",
        "sum_words = words.sum(axis=0)\n",
        "\n",
        "\n",
        "words_freq = [(word, sum_words[0, idx]) for word, idx in cv.vocabulary_.items()]\n",
        "words_freq = sorted(words_freq, key = lambda x: x[1], reverse = True)\n",
        "frequency = pd.DataFrame(words_freq, columns=['word', 'freq'])\n",
        "\n",
        "color = plt.cm.twilight(np.linspace(0, 1, 20))\n",
        "frequency.head(20).plot(x='word', y='freq', kind='bar', figsize=(15, 7), color = color)\n",
        "plt.title(\"Most Frequently Occuring Words - Top 20\")"
      ]
    },
    {
      "cell_type": "markdown",
      "source": [
        "Import library K-means cluster"
      ],
      "metadata": {
        "id": "ef-XpILHuAok"
      }
    },
    {
      "cell_type": "code",
      "execution_count": 14,
      "metadata": {
        "id": "_S5AtCmcvZSq",
        "colab": {
          "base_uri": "https://localhost:8080/"
        },
        "outputId": "3b3ce3a1-81bd-4f8a-e18f-1999c6de0a72"
      },
      "outputs": [
        {
          "output_type": "execute_result",
          "data": {
            "text/plain": [
              "KMeans(max_iter=100, n_clusters=3, n_init=1)"
            ]
          },
          "metadata": {},
          "execution_count": 14
        }
      ],
      "source": [
        "from sklearn.cluster import KMeans\n",
        "true_k = 3\n",
        "model = KMeans(n_clusters=true_k, init='k-means++', max_iter=100, n_init=1)\n",
        "model.fit(words)"
      ]
    },
    {
      "cell_type": "markdown",
      "source": [
        "Menampilkan hasil K-means cluster"
      ],
      "metadata": {
        "id": "8GzQycDEuIf7"
      }
    },
    {
      "cell_type": "code",
      "execution_count": 15,
      "metadata": {
        "id": "Wa7hJkGkvdHo",
        "colab": {
          "base_uri": "https://localhost:8080/"
        },
        "outputId": "8da0c48e-d2e1-4647-9ef5-e3ec3a3cd3c3"
      },
      "outputs": [
        {
          "output_type": "stream",
          "name": "stdout",
          "text": [
            "Cluster 0:\n",
            " the\n",
            " transformer\n",
            " transformers\n",
            " is\n",
            " to\n",
            " of\n",
            " it\n",
            " we\n",
            " that\n",
            " in\n",
            "Cluster 1:\n",
            " you\n",
            " amp\n",
            " of\n",
            " are\n",
            " to\n",
            " vt\n",
            " war\n",
            " united\n",
            " before\n",
            " selflessly\n",
            "Cluster 2:\n",
            " and\n",
            " in\n",
            " transformers\n",
            " it\n",
            " the\n",
            " on\n",
            " to\n",
            " this\n",
            " my\n",
            " transformer\n",
            "\n",
            "\n"
          ]
        },
        {
          "output_type": "stream",
          "name": "stderr",
          "text": [
            "/usr/local/lib/python3.7/dist-packages/sklearn/utils/deprecation.py:87: FutureWarning: Function get_feature_names is deprecated; get_feature_names is deprecated in 1.0 and will be removed in 1.2. Please use get_feature_names_out instead.\n",
            "  warnings.warn(msg, category=FutureWarning)\n"
          ]
        }
      ],
      "source": [
        "order_centroids = model.cluster_centers_.argsort()[:, ::-1]\n",
        "terms = cv.get_feature_names()\n",
        "\n",
        "for i in range(true_k):\n",
        "    print(\"Cluster %d:\" % i),\n",
        "    for ind in order_centroids[i, :10]:\n",
        "        print(' %s' % terms[ind]),\n",
        "    print\n",
        "\n",
        "print(\"\\n\")"
      ]
    },
    {
      "cell_type": "markdown",
      "source": [
        "Memprediksi cluster berdasarkan model yang sudah dibuat"
      ],
      "metadata": {
        "id": "pM58xpaQuUMq"
      }
    },
    {
      "cell_type": "code",
      "execution_count": 16,
      "metadata": {
        "id": "La-DWqrjviTC",
        "colab": {
          "base_uri": "https://localhost:8080/"
        },
        "outputId": "2b41b750-ac9b-4507-edf2-501ecad1be50"
      },
      "outputs": [
        {
          "output_type": "stream",
          "name": "stdout",
          "text": [
            "Prediction\n",
            "Cluster number : [0]\n",
            "Cluster number : [0]\n"
          ]
        }
      ],
      "source": [
        "print(\"Prediction\")\n",
        "Y = cv.transform([\"piala dunia\"])\n",
        "prediction = model.predict(Y)\n",
        "print(\"Cluster number :\", prediction)\n",
        "Y = cv.transform([\"ronaldo\"])\n",
        "prediction = model.predict(Y)\n",
        "print(\"Cluster number :\", prediction)"
      ]
    },
    {
      "cell_type": "markdown",
      "source": [
        "Menampilkan grafik dendogram dengan orientation top"
      ],
      "metadata": {
        "id": "xaDTNFrgupXA"
      }
    },
    {
      "cell_type": "code",
      "execution_count": 17,
      "metadata": {
        "id": "SFDaAt-bvmyj",
        "colab": {
          "base_uri": "https://localhost:8080/",
          "height": 293
        },
        "outputId": "00e108c0-4108-4ec2-fd02-79add6c0185e"
      },
      "outputs": [
        {
          "output_type": "display_data",
          "data": {
            "text/plain": [
              "<Figure size 432x288 with 1 Axes>"
            ],
            "image/png": "[encoded data removed]"
          },
          "metadata": {
            "needs_background": "light"
          }
        }
      ],
      "source": [
        "import scipy.cluster.hierarchy as sch\n",
        "X = cv.fit_transform(documents_clean).todense()\n",
        "dendrogram = sch.dendrogram(sch.linkage(X, method = 'ward',metric='euclidean'),orientation=\"top\")\n",
        "plt.title('Dendrogram')\n",
        "plt.xlabel('Jarak Ward')\n",
        "plt.ylabel('Nomor Dokumen')\n",
        "plt.show()"
      ]
    },
    {
      "cell_type": "markdown",
      "source": [
        "Menampilkan grafik dendogram dengan orientation right"
      ],
      "metadata": {
        "id": "emLAy_bdu4OR"
      }
    },
    {
      "cell_type": "code",
      "execution_count": 18,
      "metadata": {
        "id": "VwUsxwctvp2K",
        "colab": {
          "base_uri": "https://localhost:8080/",
          "height": 295
        },
        "outputId": "aca69745-8241-4752-974e-1cb7c118d9bb"
      },
      "outputs": [
        {
          "output_type": "display_data",
          "data": {
            "text/plain": [
              "<Figure size 432x288 with 1 Axes>"
            ],
            "image/png": "[encoded data removed]"
          },
          "metadata": {
            "needs_background": "light"
          }
        }
      ],
      "source": [
        "import scipy.cluster.hierarchy as sch\n",
        "X = cv.fit_transform(documents_clean).todense()\n",
        "dendrogram = sch.dendrogram(sch.linkage(X, method = 'average',metric='euclidean'),orientation=\"right\")\n",
        "plt.title('Dendrogram')\n",
        "plt.xlabel('Jarak Rerata')\n",
        "plt.ylabel('Nomor Dokumen')\n",
        "plt.show()"
      ]
    },
    {
      "cell_type": "markdown",
      "source": [
        "Menampilkan hasil algoritma Agglomerative Clustering"
      ],
      "metadata": {
        "id": "JAFAAqPbvJQ5"
      }
    },
    {
      "cell_type": "code",
      "execution_count": 19,
      "metadata": {
        "id": "KEqnykw7vu-b",
        "colab": {
          "base_uri": "https://localhost:8080/"
        },
        "outputId": "549e28bc-e383-4b25-8d83-1ec6a50ce91b"
      },
      "outputs": [
        {
          "output_type": "stream",
          "name": "stdout",
          "text": [
            "[1 1 1 1 1 2 1 1 1 2 1 0 1 1 1 1 1 1 2 1 1 1 1 1 0 0 5 5 1 1 1 1 1 1 1 1 1\n",
            " 1 1 1 2 1 1 4 1 1 1 1 1 1 1 1 1 1 3 1 1]\n"
          ]
        },
        {
          "output_type": "stream",
          "name": "stderr",
          "text": [
            "/usr/local/lib/python3.7/dist-packages/sklearn/utils/validation.py:598: FutureWarning: np.matrix usage is deprecated in 1.0 and will raise a TypeError in 1.2. Please convert to a numpy array with np.asarray. For more information see: https://numpy.org/doc/stable/reference/generated/numpy.matrix.html\n",
            "  FutureWarning,\n"
          ]
        }
      ],
      "source": [
        "from sklearn.cluster import AgglomerativeClustering\n",
        "\n",
        "cluster = AgglomerativeClustering(n_clusters=6, affinity='euclidean', linkage='ward')  \n",
        "cluster.fit_predict(X) \n",
        "print(cluster.labels_)"
      ]
    },
    {
      "cell_type": "markdown",
      "source": [
        "Menggabungkan Cluster dan menampilkan Dendrogram dengan linked single"
      ],
      "metadata": {
        "id": "yVvQSmT3vrjo"
      }
    },
    {
      "cell_type": "code",
      "execution_count": 20,
      "metadata": {
        "id": "JW6r6Uaxv0ud",
        "colab": {
          "base_uri": "https://localhost:8080/",
          "height": 426
        },
        "outputId": "b5dfedd0-49b3-49d6-ae08-119d7da1ef26"
      },
      "outputs": [
        {
          "output_type": "display_data",
          "data": {
            "text/plain": [
              "<Figure size 720x504 with 1 Axes>"
            ],
            "image/png": "[encoded data removed]"
          },
          "metadata": {
            "needs_background": "light"
          }
        }
      ],
      "source": [
        "from scipy.cluster.hierarchy import dendrogram, linkage\n",
        "from matplotlib import pyplot as plt\n",
        "\n",
        "linked = linkage(X, 'single')\n",
        "\n",
        "labelList = range(0, len(cluster.labels_))\n",
        "\n",
        "plt.figure(figsize=(10, 7))\n",
        "dendrogram(linked,\n",
        "            orientation='top',\n",
        "            labels=labelList,\n",
        "            distance_sort='descending',\n",
        "            show_leaf_counts=True)\n",
        "plt.show()"
      ]
    },
    {
      "cell_type": "markdown",
      "source": [
        "Menggabungkan Cluster dan menampilkan Dendrogram dengan linked average"
      ],
      "metadata": {
        "id": "G_ONiJrFvzDt"
      }
    },
    {
      "cell_type": "code",
      "source": [
        "from scipy.cluster.hierarchy import dendrogram, linkage\n",
        "from matplotlib import pyplot as plt\n",
        "\n",
        "linked = linkage(X, 'average')\n",
        "\n",
        "labelList = range(0, len(cluster.labels_))\n",
        "\n",
        "plt.figure(figsize=(10, 7))\n",
        "dendrogram(linked,\n",
        "            orientation='top',\n",
        "            labels=labelList,\n",
        "            distance_sort='descending',\n",
        "            show_leaf_counts=True);\n",
        "plt.show()"
      ],
      "metadata": {
        "colab": {
          "base_uri": "https://localhost:8080/",
          "height": 430
        },
        "id": "CfsZGZZe7vXo",
        "outputId": "96f72ee9-be90-467d-d4f3-a6cab7c41c5b"
      },
      "execution_count": 21,
      "outputs": [
        {
          "output_type": "display_data",
          "data": {
            "text/plain": [
              "<Figure size 720x504 with 1 Axes>"
            ],
            "image/png": "[encoded data removed]"
          },
          "metadata": {
            "needs_background": "light"
          }
        }
      ]
    }
  ],
  "metadata": {
    "colab": {
      "provenance": [],
      "collapsed_sections": []
    },
    "kernelspec": {
      "display_name": "Python 3",
      "name": "python3"
    },
    "language_info": {
      "name": "python"
    }
  },
  "nbformat": 4,
  "nbformat_minor": 0
}