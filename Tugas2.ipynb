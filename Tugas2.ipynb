{
  "cells": [
    {
      "cell_type": "code",
      "execution_count": 1,
      "metadata": {
        "colab": {
          "base_uri": "https://localhost:8080/"
        },
        "id": "2BqfACvOJuXl",
        "outputId": "6cb108f6-0004-44c7-cd48-4cb1b9dd484f"
      },
      "outputs": [
        {
          "output_type": "stream",
          "name": "stdout",
          "text": [
            "Collecting snscrape\n",
            "  Downloading snscrape-0.3.4-py3-none-any.whl (35 kB)\n",
            "Requirement already satisfied: beautifulsoup4 in /usr/local/lib/python3.7/dist-packages (from snscrape) (4.6.3)\n",
            "Requirement already satisfied: lxml in /usr/local/lib/python3.7/dist-packages (from snscrape) (4.9.1)\n",
            "Requirement already satisfied: requests[socks] in /usr/local/lib/python3.7/dist-packages (from snscrape) (2.23.0)\n",
            "Requirement already satisfied: chardet<4,>=3.0.2 in /usr/local/lib/python3.7/dist-packages (from requests[socks]->snscrape) (3.0.4)\n",
            "Requirement already satisfied: idna<3,>=2.5 in /usr/local/lib/python3.7/dist-packages (from requests[socks]->snscrape) (2.10)\n",
            "Requirement already satisfied: urllib3!=1.25.0,!=1.25.1,<1.26,>=1.21.1 in /usr/local/lib/python3.7/dist-packages (from requests[socks]->snscrape) (1.24.3)\n",
            "Requirement already satisfied: certifi>=2017.4.17 in /usr/local/lib/python3.7/dist-packages (from requests[socks]->snscrape) (2022.9.24)\n",
            "Requirement already satisfied: PySocks!=1.5.7,>=1.5.6 in /usr/local/lib/python3.7/dist-packages (from requests[socks]->snscrape) (1.7.1)\n",
            "Installing collected packages: snscrape\n",
            "Successfully installed snscrape-0.3.4\n"
          ]
        }
      ],
      "source": [
        "!pip3 install snscrape"
      ]
    },
    {
      "cell_type": "code",
      "execution_count": 2,
      "metadata": {
        "colab": {
          "base_uri": "https://localhost:8080/"
        },
        "id": "TPhZUSaHudFt",
        "outputId": "00a7332c-6541-4c2e-a786-4cc999b4f40a"
      },
      "outputs": [
        {
          "output_type": "stream",
          "name": "stdout",
          "text": [
            "Looking in indexes: https://pypi.org/simple, https://us-python.pkg.dev/colab-wheels/public/simple/\n",
            "Collecting langdetect\n",
            "  Downloading langdetect-1.0.9.tar.gz (981 kB)\n",
            "\u001b[K     |████████████████████████████████| 981 kB 3.8 MB/s \n",
            "\u001b[?25hRequirement already satisfied: six in /usr/local/lib/python3.7/dist-packages (from langdetect) (1.15.0)\n",
            "Building wheels for collected packages: langdetect\n",
            "  Building wheel for langdetect (setup.py) ... \u001b[?25l\u001b[?25hdone\n",
            "  Created wheel for langdetect: filename=langdetect-1.0.9-py3-none-any.whl size=993242 sha256=23386689b0f6d7c015dc6c73ca45abeffef30f677ff769cc85831d59ce96335e\n",
            "  Stored in directory: /root/.cache/pip/wheels/c5/96/8a/f90c59ed25d75e50a8c10a1b1c2d4c402e4dacfa87f3aff36a\n",
            "Successfully built langdetect\n",
            "Installing collected packages: langdetect\n",
            "Successfully installed langdetect-1.0.9\n"
          ]
        }
      ],
      "source": [
        "!pip install langdetect"
      ]
    },
    {
      "cell_type": "code",
      "execution_count": 3,
      "metadata": {
        "id": "8vBbIXEIujBG"
      },
      "outputs": [],
      "source": [
        "import snscrape.modules.twitter as sntwitter\n",
        "import json\n",
        "from langdetect import detect"
      ]
    },
    {
      "cell_type": "code",
      "execution_count": 4,
      "metadata": {
        "id": "l_QxIZnJus5r"
      },
      "outputs": [],
      "source": [
        "keywords=['transformers']\n",
        "start=\"2022–09–01\"\n",
        "end =\"2022–10–03\"\n",
        "max_num=100\n",
        "fname='tweet.json' \n",
        "languages=['de','en']"
      ]
    },
    {
      "cell_type": "code",
      "execution_count": 5,
      "metadata": {
        "id": "v22swtjtuzEb"
      },
      "outputs": [],
      "source": [
        "import pandas as pd\n",
        "datatw=[]"
      ]
    },
    {
      "cell_type": "code",
      "execution_count": 6,
      "metadata": {
        "colab": {
          "base_uri": "https://localhost:8080/"
        },
        "id": "77Ko87Viu1iz",
        "outputId": "e3dbc299-a307-4f44-c906-4127782e8912"
      },
      "outputs": [
        {
          "output_type": "stream",
          "name": "stdout",
          "text": [
            "{\"id\": 1581886476446359552, \"username\": \"AuthorMyosotis\", \"date\": \"2022-10-17 05:55:00+00:00\", \"text\": \"a transformer, ready to devour him.\\n\\n\\\"I can’t do it,\\\" Tobio muttered.\\n\\nBehind the wheel, looking at her brother, Miwa was about to protest when Tobio suddenly spun around, bent over and stuck his head through the open window.\", \"url\": \"https://twitter.com/AuthorMyosotis/status/1581886476446359552\"}\n",
            "{\"id\": 1581886316723458048, \"username\": \"WkdHellboy\", \"date\": \"2022-10-17 05:54:22+00:00\", \"text\": \"@BbqDeveloper Soundwave has always been hot, every generation of Transformers he’s the best. One of my favourite Soundwave moments: https://t.co/PrwWB4s9J9\", \"url\": \"https://twitter.com/WkdHellboy/status/1581886316723458048\"}\n",
            "{\"id\": 1581886276084457474, \"username\": \"ohmyprimus\", \"date\": \"2022-10-17 05:54:12+00:00\", \"text\": \"⭐ [𝗣𝗿𝗲-𝗼𝗿𝗱𝗲𝗿] Magic Square MS Toys - MS-B16A B16-A Strong Man (Transformers G1 Legends Scale Huffer Metallic Ver.) ⭐️\\nhttps://t.co/sh4SFz0UKI https://t.co/vKGiRbw9Ti\", \"url\": \"https://twitter.com/ohmyprimus/status/1581886276084457474\"}\n",
            "{\"id\": 1581886150356062210, \"username\": \"ckinyua29\", \"date\": \"2022-10-17 05:53:42+00:00\", \"text\": \"@KenyaPower_Care Good morning thank you for helping to resolve the power outage with our transformer. However the issue has not been fully resolved. We still have no power in one section of our house. We’re on 3 phase.\", \"url\": \"https://twitter.com/ckinyua29/status/1581886150356062210\"}\n",
            "{\"id\": 1581885919384084481, \"username\": \"Blueber25202555\", \"date\": \"2022-10-17 05:52:47+00:00\", \"text\": \"Update I'm still high but now I'm playing Transformer Falls  Cybertron so far I'm grimlock\", \"url\": \"https://twitter.com/Blueber25202555/status/1581885919384084481\"}\n",
            "{\"id\": 1581885836592758786, \"username\": \"SpartaReach\", \"date\": \"2022-10-17 05:52:28+00:00\", \"text\": \"@ARCTIC_ST0RM I'm scared to ask but whats diaclone?\\n\\nIs it the same Transformer but other bodies or is it how clones are called\", \"url\": \"https://twitter.com/SpartaReach/status/1581885836592758786\"}\n",
            "{\"id\": 1581885823045500930, \"username\": \"UmemeLtd\", \"date\": \"2022-10-17 05:52:24+00:00\", \"text\": \"@karungimcknight Refurbishing transformers, replacing broken and leaning poles, as well as worn out conductors. RB\", \"url\": \"https://twitter.com/UmemeLtd/status/1581885823045500930\"}\n",
            "{\"id\": 1581885457281187841, \"username\": \"MightyAsterisk\", \"date\": \"2022-10-17 05:50:57+00:00\", \"text\": \"@TF_Moments I just have to say this account revitalized my love of transformers that went into a coma when I saw revenge of the fallen and i am so grateful for that\", \"url\": \"https://twitter.com/MightyAsterisk/status/1581885457281187841\"}\n",
            "{\"id\": 1581885314510880768, \"username\": \"iain1st\", \"date\": \"2022-10-17 05:50:23+00:00\", \"text\": \"@Nigel_Farage Not really.\\n\\nThe uk doesn't accept you, froggy hitler\", \"url\": \"https://twitter.com/iain1st/status/1581885314510880768\"}\n",
            "{\"id\": 1581885264250605568, \"username\": \"iykeworld02\", \"date\": \"2022-10-17 05:50:11+00:00\", \"text\": \"@renoomokri It's the beginning of the week after the weekend flex .......oya go and hug transformer.\", \"url\": \"https://twitter.com/iykeworld02/status/1581885264250605568\"}\n",
            "{\"id\": 1581885259872088064, \"username\": \"IceCre4mChillin\", \"date\": \"2022-10-17 05:50:10+00:00\", \"text\": \"@jpgkay they ARE silly, lame marketing strategy, it was gonna feel like Transformers ROTB, the marketing is lame, fans think that they're not confidence to show off what they've been workin on\", \"url\": \"https://twitter.com/IceCre4mChillin/status/1581885259872088064\"}\n",
            "{\"id\": 1581885179815424001, \"username\": \"RiRiLoLoArts1\", \"date\": \"2022-10-17 05:49:51+00:00\", \"text\": \"I guess the question is more *should*, rather than *could*\", \"url\": \"https://twitter.com/RiRiLoLoArts1/status/1581885179815424001\"}\n",
            "{\"id\": 1581884708861812736, \"username\": \"singhdharmen81\", \"date\": \"2022-10-17 05:47:59+00:00\", \"text\": \"Tsspdcl@corporate kindly look into this complaint as internet wiring and creepers are spreading on the pole and our apt transformer is getting fused frequently and sufferring with power cuts for hours sv Sumeru nilayam GHMC park sarada nagar Gudimalkapur request for early action https://t.co/QMe7gv8rCi\", \"url\": \"https://twitter.com/singhdharmen81/status/1581884708861812736\"}\n",
            "{\"id\": 1581884650439733248, \"username\": \"murrayjessica96\", \"date\": \"2022-10-17 05:47:45+00:00\", \"text\": \"@layne025 Never wanted to be a transformer so bad now so she can work on me 😂😭\", \"url\": \"https://twitter.com/murrayjessica96/status/1581884650439733248\"}\n",
            "{\"id\": 1581884472303443969, \"username\": \"sekishinkouff\", \"date\": \"2022-10-17 05:47:02+00:00\", \"text\": \"Custom chest for Kreo Ratchet\\n#transformers #kreo #ratchet https://t.co/tnGTjc6iAU\", \"url\": \"https://twitter.com/sekishinkouff/status/1581884472303443969\"}\n",
            "{\"id\": 1581884254912643078, \"username\": \"sekishinkouff\", \"date\": \"2022-10-17 05:46:11+00:00\", \"text\": \"Custom chest for Kreo Ratchet\\n#transformers #kreo #ratchet https://t.co/DkFiCPdeXD\", \"url\": \"https://twitter.com/sekishinkouff/status/1581884254912643078\"}\n",
            "{\"id\": 1581883971922558976, \"username\": \"tfhourly\", \"date\": \"2022-10-17 05:45:03+00:00\", \"text\": \"Transformers Sideswipe(g1) https://t.co/Nt4eXGxYsM\", \"url\": \"https://twitter.com/tfhourly/status/1581883971922558976\"}\n",
            "{\"id\": 1581883591017267202, \"username\": \"GlobecoreCom\", \"date\": \"2022-10-17 05:43:32+00:00\", \"text\": \"#globecore_fact\\n\\nDid you know that...\\n\\nAccording to Electric Power Research Institute (USA), about 60% of transformers in operation in 1997 have been in use for 25 years.\\n\\nAnd what is the average age of your transformers?\\n\\n#transformer #powertransformer #electricalengineering https://t.co/L52UMbEAq9\", \"url\": \"https://twitter.com/GlobecoreCom/status/1581883591017267202\"}\n",
            "{\"id\": 1581883290545696769, \"username\": \"fendimami1\", \"date\": \"2022-10-17 05:42:21+00:00\", \"text\": \"Your spittin quick but next time use the word transformer ok https://t.co/J3TXscyktc\", \"url\": \"https://twitter.com/fendimami1/status/1581883290545696769\"}\n",
            "{\"id\": 1581883013163384832, \"username\": \"Cristianocae227\", \"date\": \"2022-10-17 05:41:14+00:00\", \"text\": \"@ChromeTyranno Technically it was the opposite of an ice age. 🤓\\n\\nNow I'm kind of sad, where I live it's extremely difficult to find the newest transformers dolls and when you do they are extremely expensive.\", \"url\": \"https://twitter.com/Cristianocae227/status/1581883013163384832\"}\n",
            "{\"id\": 1581882684455854081, \"username\": \"odukoya_korede\", \"date\": \"2022-10-17 05:39:56+00:00\", \"text\": \"@henryshield Mumu. Mr. Doctor. U will hug transformer after February 2023.\", \"url\": \"https://twitter.com/odukoya_korede/status/1581882684455854081\"}\n",
            "{\"id\": 1581882433732952064, \"username\": \"NejroGarka\", \"date\": \"2022-10-17 05:38:56+00:00\", \"text\": \"I'm gonna be real, my favorite Transformers toyline is, and always will be Prime's, designs are nice and the few I had, had some neat transformations.\", \"url\": \"https://twitter.com/NejroGarka/status/1581882433732952064\"}\n",
            "{\"id\": 1581882281769041920, \"username\": \"MichaelBrucato7\", \"date\": \"2022-10-17 05:38:20+00:00\", \"text\": \"Perceptor decided to transform into a tank when he arrived in America, on the planet Earth, last month and he was intrigued by the vehicle.\", \"url\": \"https://twitter.com/MichaelBrucato7/status/1581882281769041920\"}\n",
            "{\"id\": 1581882250337341440, \"username\": \"tffanbot\", \"date\": \"2022-10-17 05:38:13+00:00\", \"text\": \"Barricade being friends with someone that's a new character but smelling bad will not ruin transformers forever\", \"url\": \"https://twitter.com/tffanbot/status/1581882250337341440\"}\n",
            "{\"id\": 1581881833364803584, \"username\": \"Saramidnightni\", \"date\": \"2022-10-17 05:36:33+00:00\", \"text\": \"*Stays in my private quarter and reads the book and studies the tie that Solus Prime has joined forces. As I continue on reading and found out she has ties with Optimus Prime and Nemesis prime as this book was quite interesting.*\", \"url\": \"https://twitter.com/Saramidnightni/status/1581881833364803584\"}\n",
            "{\"id\": 1581881689764089857, \"username\": \"alvi_fj\", \"date\": \"2022-10-17 05:35:59+00:00\", \"text\": \"Haji iftkhar Bhango mpa hua hai Jo uske halky me hum ny 42 transformers rkhy hn uski kamyabi ka raaz apka bhai h\\n\\nThis is what PML(N) did in by-election &amp; claimed \\nShameless act of local leadership of this constituency especially Rana Tanveer Hussian (Fed. Minsiter - Education\", \"url\": \"https://twitter.com/alvi_fj/status/1581881689764089857\"}\n",
            "{\"id\": 1581881619597602817, \"username\": \"KutchBranson\", \"date\": \"2022-10-17 05:35:42+00:00\", \"text\": \"Jameco Valuepro 102111-R Power Transformer, 24 VCT/1A, 115/230 Vac, Wire Leads, 2.41\\\" L x 2.80\\\" W x 1.99\\\" H HAFIY2K\\n\\nhttps://t.co/QujhPYY1ZH\", \"url\": \"https://twitter.com/KutchBranson/status/1581881619597602817\"}\n",
            "{\"id\": 1581881523363405824, \"username\": \"JKL1884\", \"date\": \"2022-10-17 05:35:19+00:00\", \"text\": \"@walruslaw @TF_Moments \\\"Wait till you see the new chapter of the Beast Wars story, they called it Beast Machines: Transformers!\\\" https://t.co/k6JhJ7Wajm\", \"url\": \"https://twitter.com/JKL1884/status/1581881523363405824\"}\n",
            "{\"id\": 1581880912190398464, \"username\": \"RiRiLoLoArts1\", \"date\": \"2022-10-17 05:32:54+00:00\", \"text\": \"Ok so...\\n\\nIf an animal were SUPER endangered, like the last of its kind...\\n\\nCould Beast Boy.... ya know.....\", \"url\": \"https://twitter.com/RiRiLoLoArts1/status/1581880912190398464\"}\n",
            "{\"id\": 1581880905412407296, \"username\": \"aspheerussy\", \"date\": \"2022-10-17 05:32:52+00:00\", \"text\": \"Transformers animated Blitzwing my beloved\", \"url\": \"https://twitter.com/aspheerussy/status/1581880905412407296\"}\n",
            "{\"id\": 1581880887477768193, \"username\": \"corpus_news\", \"date\": \"2022-10-17 05:32:48+00:00\", \"text\": \"#naturallanguageprocessing #computerscience #dataprocessing #nlp\\nhttps://t.co/nKbRPXfeTv \\n \\nNatural Language Processing with Transformers, Revised Edition\", \"url\": \"https://twitter.com/corpus_news/status/1581880887477768193\"}\n",
            "{\"id\": 1581880791654547456, \"username\": \"Cherries95z\", \"date\": \"2022-10-17 05:32:25+00:00\", \"text\": \"Mo libur grinding ssrg dulu sampe ada update Halloween. Sekalian movie marathon transformers 🫶\", \"url\": \"https://twitter.com/Cherries95z/status/1581880791654547456\"}\n",
            "{\"id\": 1581880697958305792, \"username\": \"RoseKellyCat\", \"date\": \"2022-10-17 05:32:02+00:00\", \"text\": \"@Hyper_Falcon thats justa transformer with extra steps\", \"url\": \"https://twitter.com/RoseKellyCat/status/1581880697958305792\"}\n",
            "{\"id\": 1581880686289428480, \"username\": \"northcoasteels\", \"date\": \"2022-10-17 05:32:00+00:00\", \"text\": \"Transformers: Age of Testicles https://t.co/5XgLTxmWPt\", \"url\": \"https://twitter.com/northcoasteels/status/1581880686289428480\"}\n",
            "{\"id\": 1581880668988280833, \"username\": \"UlvenAspiration\", \"date\": \"2022-10-17 05:31:56+00:00\", \"text\": \"@Egg_irl_bot I hate that i think I have to go to the store.\\n\\nFor real if i just stopped buying so many transformers maybe I'd be able to afford hrt\", \"url\": \"https://twitter.com/UlvenAspiration/status/1581880668988280833\"}\n",
            "{\"id\": 1581880352624103424, \"username\": \"AmarexMetal\", \"date\": \"2022-10-17 05:30:40+00:00\", \"text\": \"Transformer Metal Bushing Parts Manufacturer &amp; international suppliers as well we export transformer assembly parts \\n\\nfor orders or inquiries visit our website: https://t.co/qsYCWaMr1S\\n\\n#exportação #usabu https://t.co/qN0AXBLFfV https://t.co/w4FWXfTvdk\", \"url\": \"https://twitter.com/AmarexMetal/status/1581880352624103424\"}\n",
            "{\"id\": 1581880330721849344, \"username\": \"Hyper_Falcon\", \"date\": \"2022-10-17 05:30:35+00:00\", \"text\": \"So, hear me out\\nA Transformer that transforms into a mobile suit from Gundam\", \"url\": \"https://twitter.com/Hyper_Falcon/status/1581880330721849344\"}\n",
            "{\"id\": 1581880234831319040, \"username\": \"GeekysCorner\", \"date\": \"2022-10-17 05:30:12+00:00\", \"text\": \"@CrewScg I recall being...vaguely entertained by power rangers as a kid whenever my brothers had it on, but transformers never interested me.\", \"url\": \"https://twitter.com/GeekysCorner/status/1581880234831319040\"}\n",
            "{\"id\": 1581880195803672576, \"username\": \"makingofTRFMS3\", \"date\": \"2022-10-17 05:30:03+00:00\", \"text\": \"Hi Transformers Collaborative: Street Fighter II Mash-Up Optimus Prime/Ryu vs. Megatron/M. Bison Found At US Retail https://t.co/VmsxzriNQr thanks\", \"url\": \"https://twitter.com/makingofTRFMS3/status/1581880195803672576\"}\n",
            "{\"id\": 1581879860313870337, \"username\": \"SVPSOint\", \"date\": \"2022-10-17 05:28:43+00:00\", \"text\": \"Electricity Dept . \\nElectricity Dept became sinful. Fraud/bribe fr meter, work, transformer,etc plus too much Unwanted very too Much High salary.\\nRaising CC charges/current Bill , Collecting from Ppl, &amp; staff+Elec Ers+Depts Heads,Poltcns,etc r enjoying al lot ! #Govts,#India https://t.co/tDKqdBOMIn\", \"url\": \"https://twitter.com/SVPSOint/status/1581879860313870337\"}\n",
            "{\"id\": 1581879749940375553, \"username\": \"HydroUnofficial\", \"date\": \"2022-10-17 05:28:16+00:00\", \"text\": \"🤩 Power back on (2105371):  Lower Mainland in Maple Ridge near 26200 block 100 AVE.\\nCause: Transformer burn out. #bchydro #britishcolumbia #canada #poweroutage #poweron\", \"url\": \"https://twitter.com/HydroUnofficial/status/1581879749940375553\"}\n",
            "{\"id\": 1581879622299361281, \"username\": \"Just_Nigerian\", \"date\": \"2022-10-17 05:27:46+00:00\", \"text\": \"@_Bernie_Black I love married men. If e pain you, go hug transformer 😂\", \"url\": \"https://twitter.com/Just_Nigerian/status/1581879622299361281\"}\n",
            "{\"id\": 1581879142827536385, \"username\": \"CrewScg\", \"date\": \"2022-10-17 05:25:52+00:00\", \"text\": \"@GeekysCorner Ah… I don’t suppose that Power Rangers or Transformers would interest you?\\nThere are many different incarnations of each show so it ultimately depends on which era you go for.\", \"url\": \"https://twitter.com/CrewScg/status/1581879142827536385\"}\n",
            "{\"id\": 1581879031355822081, \"username\": \"tundealatishe\", \"date\": \"2022-10-17 05:25:25+00:00\", \"text\": \"@Heiszrael @KelvinK97270295 @VictorChukwueb8 @GazetteNGR Shey you no go huh transformer so?🤨\", \"url\": \"https://twitter.com/tundealatishe/status/1581879031355822081\"}\n",
            "{\"id\": 1581878744091762688, \"username\": \"MgSanremo\", \"date\": \"2022-10-17 05:24:17+00:00\", \"text\": \"https://t.co/ucNA8knIth Lou Reed and David Bowie  transformer\", \"url\": \"https://twitter.com/MgSanremo/status/1581878744091762688\"}\n",
            "{\"id\": 1581878333272256512, \"username\": \"arXiv_cs_CL_ja\", \"date\": \"2022-10-17 05:22:39+00:00\", \"text\": \"Can Demographic Factors Improve Text Classification? Revisiting\\n  Demographic Adaptation in the Age of Transformers https://t.co/ua9A2SazC0\\nComment: arXiv admin note: substantial text overlap with arXiv:2208.01029\\n  人口統計学的要因 (性別や年齢など) が私たちの言語を形成\", \"url\": \"https://twitter.com/arXiv_cs_CL_ja/status/1581878333272256512\"}\n",
            "{\"id\": 1581878241375113216, \"username\": \"freshodut\", \"date\": \"2022-10-17 05:22:17+00:00\", \"text\": \"@Omega0803 @GazetteNGR I don't know why he's giving anybody 5% for what they don't deserve. We'll deliver to you 100% votes from the south west, whoever that doesn't like it should go and hug transformer.\", \"url\": \"https://twitter.com/freshodut/status/1581878241375113216\"}\n",
            "{\"id\": 1581878018535874560, \"username\": \"SissySkies\", \"date\": \"2022-10-17 05:21:24+00:00\", \"text\": \"@GeorgeTakei Pet Sematary , Star Wars, Transformers , X-men , Wolverine 😌\", \"url\": \"https://twitter.com/SissySkies/status/1581878018535874560\"}\n",
            "{\"id\": 1581877785408045056, \"username\": \"convoy143\", \"date\": \"2022-10-17 05:20:28+00:00\", \"text\": \"@TF_Moments So is this before or after transformers unicron? I honestly don't know I don't want to bother with IDW\", \"url\": \"https://twitter.com/convoy143/status/1581877785408045056\"}\n",
            "{\"id\": 1581877227293003778, \"username\": \"elpeztibur0n\", \"date\": \"2022-10-17 05:18:15+00:00\", \"text\": \"when my nephew says transformers he says \\\"transfobo\\\"\", \"url\": \"https://twitter.com/elpeztibur0n/status/1581877227293003778\"}\n",
            "{\"id\": 1581877146816954368, \"username\": \"Obong_Akan\", \"date\": \"2022-10-17 05:17:56+00:00\", \"text\": \"@Qdpaper2 Go and hug transformer 😂\\n\\nObi is your next president and there’s absolutely nothing than can stop him\", \"url\": \"https://twitter.com/Obong_Akan/status/1581877146816954368\"}\n",
            "{\"id\": 1581877053095567360, \"username\": \"DarkTypeGen5\", \"date\": \"2022-10-17 05:17:33+00:00\", \"text\": \"@TiffanyArtist56 Draw your OC in Angry Birds Transformers version.\", \"url\": \"https://twitter.com/DarkTypeGen5/status/1581877053095567360\"}\n",
            "{\"id\": 1581876370304425985, \"username\": \"MomentsVillain\", \"date\": \"2022-10-17 05:14:51+00:00\", \"text\": \"Megatron roasting people for 20 minutes\\n(Transformers: The Ride 3D)\\nhttps://t.co/SLpwUIN5MX\", \"url\": \"https://twitter.com/MomentsVillain/status/1581876370304425985\"}\n",
            "{\"id\": 1581876315702992896, \"username\": \"grandpa_money\", \"date\": \"2022-10-17 05:14:38+00:00\", \"text\": \"we up watching transformers 3 nigga\", \"url\": \"https://twitter.com/grandpa_money/status/1581876315702992896\"}\n"
          ]
        }
      ],
      "source": [
        "for keyword in keywords:\n",
        "   \n",
        "    for i, tweet in enumerate (sntwitter.TwitterSearchScraper(f'{keyword} ').get_items()):\n",
        "        \n",
        "        try:\n",
        "            lan=detect(tweet.content)\n",
        "        except:\n",
        "            lan='error'\n",
        "        if i == max_num:\n",
        "            break\n",
        "        if lan in languages:\n",
        "            data = {'id': tweet.id, 'username':tweet.username, 'date': tweet.date, 'text': tweet.content,'url':tweet.url}\n",
        "            datatw.append(tweet.content)\n",
        "            with open(fname, 'a+', encoding='utf-8') as f:\n",
        "                line = json.dumps(data, ensure_ascii=False,default=str)\n",
        "                print(line)\n",
        "                f.write(line)\n",
        "                f.write('\\n')"
      ]
    },
    {
      "cell_type": "code",
      "execution_count": 7,
      "metadata": {
        "colab": {
          "base_uri": "https://localhost:8080/"
        },
        "id": "d6n318tyu5SU",
        "outputId": "4e734261-c0ab-4956-ea80-3cd7313a825a"
      },
      "outputs": [
        {
          "output_type": "execute_result",
          "data": {
            "text/plain": [
              "['a transformer, ready to devour him.\\n\\n\"I can’t do it,\" Tobio muttered.\\n\\nBehind the wheel, looking at her brother, Miwa was about to protest when Tobio suddenly spun around, bent over and stuck his head through the open window.',\n",
              " '@BbqDeveloper Soundwave has always been hot, every generation of Transformers he’s the best. One of my favourite Soundwave moments: https://t.co/PrwWB4s9J9',\n",
              " '⭐ [𝗣𝗿𝗲-𝗼𝗿𝗱𝗲𝗿] Magic Square MS Toys - MS-B16A B16-A Strong Man (Transformers G1 Legends Scale Huffer Metallic Ver.) ⭐️\\nhttps://t.co/sh4SFz0UKI https://t.co/vKGiRbw9Ti',\n",
              " '@KenyaPower_Care Good morning thank you for helping to resolve the power outage with our transformer. However the issue has not been fully resolved. We still have no power in one section of our house. We’re on 3 phase.',\n",
              " \"Update I'm still high but now I'm playing Transformer Falls  Cybertron so far I'm grimlock\",\n",
              " \"@ARCTIC_ST0RM I'm scared to ask but whats diaclone?\\n\\nIs it the same Transformer but other bodies or is it how clones are called\",\n",
              " '@karungimcknight Refurbishing transformers, replacing broken and leaning poles, as well as worn out conductors. RB',\n",
              " '@TF_Moments I just have to say this account revitalized my love of transformers that went into a coma when I saw revenge of the fallen and i am so grateful for that',\n",
              " \"@Nigel_Farage Not really.\\n\\nThe uk doesn't accept you, froggy hitler\",\n",
              " \"@renoomokri It's the beginning of the week after the weekend flex .......oya go and hug transformer.\",\n",
              " \"@jpgkay they ARE silly, lame marketing strategy, it was gonna feel like Transformers ROTB, the marketing is lame, fans think that they're not confidence to show off what they've been workin on\",\n",
              " 'I guess the question is more *should*, rather than *could*',\n",
              " 'Tsspdcl@corporate kindly look into this complaint as internet wiring and creepers are spreading on the pole and our apt transformer is getting fused frequently and sufferring with power cuts for hours sv Sumeru nilayam GHMC park sarada nagar Gudimalkapur request for early action https://t.co/QMe7gv8rCi',\n",
              " '@layne025 Never wanted to be a transformer so bad now so she can work on me 😂😭',\n",
              " 'Custom chest for Kreo Ratchet\\n#transformers #kreo #ratchet https://t.co/tnGTjc6iAU',\n",
              " 'Custom chest for Kreo Ratchet\\n#transformers #kreo #ratchet https://t.co/DkFiCPdeXD',\n",
              " 'Transformers Sideswipe(g1) https://t.co/Nt4eXGxYsM',\n",
              " '#globecore_fact\\n\\nDid you know that...\\n\\nAccording to Electric Power Research Institute (USA), about 60% of transformers in operation in 1997 have been in use for 25 years.\\n\\nAnd what is the average age of your transformers?\\n\\n#transformer #powertransformer #electricalengineering https://t.co/L52UMbEAq9',\n",
              " 'Your spittin quick but next time use the word transformer ok https://t.co/J3TXscyktc',\n",
              " \"@ChromeTyranno Technically it was the opposite of an ice age. 🤓\\n\\nNow I'm kind of sad, where I live it's extremely difficult to find the newest transformers dolls and when you do they are extremely expensive.\",\n",
              " '@henryshield Mumu. Mr. Doctor. U will hug transformer after February 2023.',\n",
              " \"I'm gonna be real, my favorite Transformers toyline is, and always will be Prime's, designs are nice and the few I had, had some neat transformations.\",\n",
              " 'Perceptor decided to transform into a tank when he arrived in America, on the planet Earth, last month and he was intrigued by the vehicle.',\n",
              " \"Barricade being friends with someone that's a new character but smelling bad will not ruin transformers forever\",\n",
              " '*Stays in my private quarter and reads the book and studies the tie that Solus Prime has joined forces. As I continue on reading and found out she has ties with Optimus Prime and Nemesis prime as this book was quite interesting.*',\n",
              " 'Haji iftkhar Bhango mpa hua hai Jo uske halky me hum ny 42 transformers rkhy hn uski kamyabi ka raaz apka bhai h\\n\\nThis is what PML(N) did in by-election &amp; claimed \\nShameless act of local leadership of this constituency especially Rana Tanveer Hussian (Fed. Minsiter - Education',\n",
              " 'Jameco Valuepro 102111-R Power Transformer, 24 VCT/1A, 115/230 Vac, Wire Leads, 2.41\" L x 2.80\" W x 1.99\" H HAFIY2K\\n\\nhttps://t.co/QujhPYY1ZH',\n",
              " '@walruslaw @TF_Moments \"Wait till you see the new chapter of the Beast Wars story, they called it Beast Machines: Transformers!\" https://t.co/k6JhJ7Wajm',\n",
              " 'Ok so...\\n\\nIf an animal were SUPER endangered, like the last of its kind...\\n\\nCould Beast Boy.... ya know.....',\n",
              " 'Transformers animated Blitzwing my beloved',\n",
              " '#naturallanguageprocessing #computerscience #dataprocessing #nlp\\nhttps://t.co/nKbRPXfeTv \\n \\nNatural Language Processing with Transformers, Revised Edition',\n",
              " 'Mo libur grinding ssrg dulu sampe ada update Halloween. Sekalian movie marathon transformers \\U0001faf6',\n",
              " '@Hyper_Falcon thats justa transformer with extra steps',\n",
              " 'Transformers: Age of Testicles https://t.co/5XgLTxmWPt',\n",
              " \"@Egg_irl_bot I hate that i think I have to go to the store.\\n\\nFor real if i just stopped buying so many transformers maybe I'd be able to afford hrt\",\n",
              " 'Transformer Metal Bushing Parts Manufacturer &amp; international suppliers as well we export transformer assembly parts \\n\\nfor orders or inquiries visit our website: https://t.co/qsYCWaMr1S\\n\\n#exportação #usabu https://t.co/qN0AXBLFfV https://t.co/w4FWXfTvdk',\n",
              " 'So, hear me out\\nA Transformer that transforms into a mobile suit from Gundam',\n",
              " '@CrewScg I recall being...vaguely entertained by power rangers as a kid whenever my brothers had it on, but transformers never interested me.',\n",
              " 'Hi Transformers Collaborative: Street Fighter II Mash-Up Optimus Prime/Ryu vs. Megatron/M. Bison Found At US Retail https://t.co/VmsxzriNQr thanks',\n",
              " 'Electricity Dept . \\nElectricity Dept became sinful. Fraud/bribe fr meter, work, transformer,etc plus too much Unwanted very too Much High salary.\\nRaising CC charges/current Bill , Collecting from Ppl, &amp; staff+Elec Ers+Depts Heads,Poltcns,etc r enjoying al lot ! #Govts,#India https://t.co/tDKqdBOMIn',\n",
              " '🤩 Power back on (2105371):  Lower Mainland in Maple Ridge near 26200 block 100 AVE.\\nCause: Transformer burn out. #bchydro #britishcolumbia #canada #poweroutage #poweron',\n",
              " '@_Bernie_Black I love married men. If e pain you, go hug transformer 😂',\n",
              " '@GeekysCorner Ah… I don’t suppose that Power Rangers or Transformers would interest you?\\nThere are many different incarnations of each show so it ultimately depends on which era you go for.',\n",
              " '@Heiszrael @KelvinK97270295 @VictorChukwueb8 @GazetteNGR Shey you no go huh transformer so?🤨',\n",
              " 'https://t.co/ucNA8knIth Lou Reed and David Bowie  transformer',\n",
              " 'Can Demographic Factors Improve Text Classification? Revisiting\\n  Demographic Adaptation in the Age of Transformers https://t.co/ua9A2SazC0\\nComment: arXiv admin note: substantial text overlap with arXiv:2208.01029\\n  人口統計学的要因 (性別や年齢など) が私たちの言語を形成',\n",
              " \"@Omega0803 @GazetteNGR I don't know why he's giving anybody 5% for what they don't deserve. We'll deliver to you 100% votes from the south west, whoever that doesn't like it should go and hug transformer.\",\n",
              " '@GeorgeTakei Pet Sematary , Star Wars, Transformers , X-men , Wolverine 😌',\n",
              " \"@TF_Moments So is this before or after transformers unicron? I honestly don't know I don't want to bother with IDW\",\n",
              " 'when my nephew says transformers he says \"transfobo\"',\n",
              " '@Qdpaper2 Go and hug transformer 😂\\n\\nObi is your next president and there’s absolutely nothing than can stop him',\n",
              " '@TiffanyArtist56 Draw your OC in Angry Birds Transformers version.',\n",
              " 'Megatron roasting people for 20 minutes\\n(Transformers: The Ride 3D)\\nhttps://t.co/SLpwUIN5MX',\n",
              " 'we up watching transformers 3 nigga']"
            ]
          },
          "metadata": {},
          "execution_count": 7
        }
      ],
      "source": [
        "datatw"
      ]
    },
    {
      "cell_type": "code",
      "execution_count": 8,
      "metadata": {
        "colab": {
          "base_uri": "https://localhost:8080/"
        },
        "id": "3gkq6rxTu9w2",
        "outputId": "d01ea5e5-f262-448a-de2c-0ed72562fe18"
      },
      "outputs": [
        {
          "output_type": "stream",
          "name": "stdout",
          "text": [
            "Looking in indexes: https://pypi.org/simple, https://us-python.pkg.dev/colab-wheels/public/simple/\n",
            "Collecting Sastrawi\n",
            "  Downloading Sastrawi-1.0.1-py2.py3-none-any.whl (209 kB)\n",
            "\u001b[K     |████████████████████████████████| 209 kB 3.9 MB/s \n",
            "\u001b[?25hInstalling collected packages: Sastrawi\n",
            "Successfully installed Sastrawi-1.0.1\n"
          ]
        }
      ],
      "source": [
        "!pip install Sastrawi"
      ]
    },
    {
      "cell_type": "code",
      "execution_count": 9,
      "metadata": {
        "colab": {
          "base_uri": "https://localhost:8080/"
        },
        "id": "uq4wx_QwvBQb",
        "outputId": "923dc60e-e0aa-4c53-d32c-cd121d7de287"
      },
      "outputs": [
        {
          "output_type": "stream",
          "name": "stdout",
          "text": [
            "Looking in indexes: https://pypi.org/simple, https://us-python.pkg.dev/colab-wheels/public/simple/\n",
            "Requirement already satisfied: beautifulsoup4 in /usr/local/lib/python3.7/dist-packages (4.6.3)\n"
          ]
        }
      ],
      "source": [
        "!pip install beautifulsoup4"
      ]
    },
    {
      "cell_type": "code",
      "execution_count": 14,
      "metadata": {
        "id": "vKcKb001vGqR"
      },
      "outputs": [],
      "source": [
        "import re\n",
        "import string\n",
        "from Sastrawi.Stemmer.StemmerFactory import StemmerFactory# create stemmer\n",
        "factory = StemmerFactory()\n",
        "stemmer = factory.create_stemmer()# stemming process\n",
        "# import StopWordRemoverFactory class\n",
        "from Sastrawi.StopWordRemover.StopWordRemoverFactory import StopWordRemoverFactory\n",
        "factory = StopWordRemoverFactory()\n",
        "stopword = factory.create_stop_word_remover()\n",
        "documents_clean=[]\n",
        "\n",
        "for d in datatw:\n",
        "\n",
        "    # Remove Unicode\n",
        "    document_test = re.sub(r'[^\\x00-\\x7F]+', ' ', d)\n",
        "    # Remove URL\n",
        "    document_test = re.sub(r'http\\S+', '', document_test)\n",
        "    # Remove Mentions\n",
        "    document_test = re.sub(r'@\\w+', '', document_test)\n",
        "    # Lowercase the document\n",
        "    document_test = document_test.lower()\n",
        "    # Remove punctuations\n",
        "    document_test = re.sub(r'[%s]' % re.escape(string.punctuation), ' ', document_test)\n",
        "    # Lowercase the numbers\n",
        "    document_test = re.sub(r'[0-9]', '', document_test)\n",
        "    # Remove the doubled space\n",
        "    outputstop = re.sub(r'\\s{2,}', ' ', document_test)\n",
        "\n",
        "    outputstem= stemmer.stem(d)\n",
        "    d= stopword.remove(outputstem)\n",
        "    documents_clean.append(outputstop)"
      ]
    },
    {
      "cell_type": "code",
      "execution_count": 15,
      "metadata": {
        "colab": {
          "base_uri": "https://localhost:8080/"
        },
        "id": "RpRAYLlovIuq",
        "outputId": "bc9df818-af3b-416d-f8f7-c63f9be4db85"
      },
      "outputs": [
        {
          "output_type": "execute_result",
          "data": {
            "text/plain": [
              "['a transformer ready to devour him i can t do it tobio muttered behind the wheel looking at her brother miwa was about to protest when tobio suddenly spun around bent over and stuck his head through the open window ',\n",
              " ' soundwave has always been hot every generation of transformers he s the best one of my favourite soundwave moments ',\n",
              " ' magic square ms toys ms ba b a strong man transformers g legends scale huffer metallic ver ',\n",
              " ' good morning thank you for helping to resolve the power outage with our transformer however the issue has not been fully resolved we still have no power in one section of our house we re on phase ',\n",
              " 'update i m still high but now i m playing transformer falls cybertron so far i m grimlock']"
            ]
          },
          "metadata": {},
          "execution_count": 15
        }
      ],
      "source": [
        "documents_clean[0:5]"
      ]
    },
    {
      "cell_type": "code",
      "execution_count": 16,
      "metadata": {
        "colab": {
          "base_uri": "https://localhost:8080/"
        },
        "id": "TR4-56O1vOLq",
        "outputId": "ae6543bb-6c7d-4434-b068-475500c65662"
      },
      "outputs": [
        {
          "output_type": "stream",
          "name": "stderr",
          "text": [
            "/usr/local/lib/python3.7/dist-packages/sklearn/utils/deprecation.py:87: FutureWarning: Function get_feature_names is deprecated; get_feature_names is deprecated in 1.0 and will be removed in 1.2. Please use get_feature_names_out instead.\n",
            "  warnings.warn(msg, category=FutureWarning)\n"
          ]
        }
      ],
      "source": [
        "from sklearn.feature_extraction.text import TfidfVectorizer\n",
        "import pandas as pd\n",
        "tfidfvectorizer = TfidfVectorizer(analyzer='word')\n",
        "tfidf_wm = tfidfvectorizer.fit_transform(documents_clean)\n",
        "tfidf_tokens = tfidfvectorizer.get_feature_names()"
      ]
    },
    {
      "cell_type": "code",
      "execution_count": 17,
      "metadata": {
        "id": "8n8Vb352vSbA",
        "colab": {
          "base_uri": "https://localhost:8080/",
          "height": 530
        },
        "outputId": "dcaf402d-0c8f-442a-906e-9ea35eb97747"
      },
      "outputs": [
        {
          "output_type": "execute_result",
          "data": {
            "text/plain": [
              "Text(0.5, 1.0, 'Most Frequently Occuring Words - Top 20')"
            ]
          },
          "metadata": {},
          "execution_count": 17
        },
        {
          "output_type": "display_data",
          "data": {
            "text/plain": [
              "<Figure size 1080x504 with 1 Axes>"
            ],
            "image/png": "[encoded data removed]"
          },
          "metadata": {
            "needs_background": "light"
          }
        }
      ],
      "source": [
        "from sklearn.feature_extraction.text import CountVectorizer \n",
        "import matplotlib.pyplot as plt\n",
        "import numpy as np # linear algebra\n",
        "import pandas as pd # data processing, CSV file I/O (e.g. pd.read_csv)\n",
        "cv = CountVectorizer()\n",
        "words = cv.fit_transform(documents_clean)\n",
        "sum_words = words.sum(axis=0)\n",
        "\n",
        "\n",
        "words_freq = [(word, sum_words[0, idx]) for word, idx in cv.vocabulary_.items()]\n",
        "words_freq = sorted(words_freq, key = lambda x: x[1], reverse = True)\n",
        "frequency = pd.DataFrame(words_freq, columns=['word', 'freq'])\n",
        "\n",
        "color = plt.cm.twilight(np.linspace(0, 1, 20))\n",
        "frequency.head(20).plot(x='word', y='freq', kind='bar', figsize=(15, 7), color = color)\n",
        "plt.title(\"Most Frequently Occuring Words - Top 20\")"
      ]
    },
    {
      "cell_type": "code",
      "execution_count": 18,
      "metadata": {
        "id": "_S5AtCmcvZSq",
        "colab": {
          "base_uri": "https://localhost:8080/"
        },
        "outputId": "50e01c2c-51de-430c-b232-e14f5cf0f427"
      },
      "outputs": [
        {
          "output_type": "execute_result",
          "data": {
            "text/plain": [
              "KMeans(max_iter=100, n_clusters=3, n_init=1)"
            ]
          },
          "metadata": {},
          "execution_count": 18
        }
      ],
      "source": [
        "from sklearn.cluster import KMeans\n",
        "true_k = 3\n",
        "model = KMeans(n_clusters=true_k, init='k-means++', max_iter=100, n_init=1)\n",
        "model.fit(words)"
      ]
    },
    {
      "cell_type": "code",
      "execution_count": 19,
      "metadata": {
        "id": "Wa7hJkGkvdHo",
        "colab": {
          "base_uri": "https://localhost:8080/"
        },
        "outputId": "e78353ba-6369-4bcf-b939-e3f870ec2154"
      },
      "outputs": [
        {
          "output_type": "stream",
          "name": "stdout",
          "text": [
            "Cluster 0:\n",
            " transformers\n",
            " the\n",
            " transformer\n",
            " of\n",
            " and\n",
            " to\n",
            " for\n",
            " so\n",
            " is\n",
            " in\n",
            "Cluster 1:\n",
            " of\n",
            " extremely\n",
            " it\n",
            " the\n",
            " opposite\n",
            " kind\n",
            " are\n",
            " was\n",
            " newest\n",
            " ice\n",
            "Cluster 2:\n",
            " and\n",
            " prime\n",
            " has\n",
            " as\n",
            " book\n",
            " the\n",
            " ties\n",
            " on\n",
            " found\n",
            " out\n",
            "\n",
            "\n"
          ]
        },
        {
          "output_type": "stream",
          "name": "stderr",
          "text": [
            "/usr/local/lib/python3.7/dist-packages/sklearn/utils/deprecation.py:87: FutureWarning: Function get_feature_names is deprecated; get_feature_names is deprecated in 1.0 and will be removed in 1.2. Please use get_feature_names_out instead.\n",
            "  warnings.warn(msg, category=FutureWarning)\n"
          ]
        }
      ],
      "source": [
        "order_centroids = model.cluster_centers_.argsort()[:, ::-1]\n",
        "terms = cv.get_feature_names()\n",
        "\n",
        "for i in range(true_k):\n",
        "    print(\"Cluster %d:\" % i),\n",
        "    for ind in order_centroids[i, :10]:\n",
        "        print(' %s' % terms[ind]),\n",
        "    print\n",
        "\n",
        "print(\"\\n\")"
      ]
    },
    {
      "cell_type": "code",
      "execution_count": 20,
      "metadata": {
        "id": "La-DWqrjviTC",
        "colab": {
          "base_uri": "https://localhost:8080/"
        },
        "outputId": "30e526b6-10c6-4af4-8134-cbe61d391914"
      },
      "outputs": [
        {
          "output_type": "stream",
          "name": "stdout",
          "text": [
            "Prediction\n",
            "Cluster number : [0]\n",
            "Cluster number : [0]\n"
          ]
        }
      ],
      "source": [
        "print(\"Prediction\")\n",
        "Y = cv.transform([\"piala dunia\"])\n",
        "prediction = model.predict(Y)\n",
        "print(\"Cluster number :\", prediction)\n",
        "Y = cv.transform([\"ronaldo\"])\n",
        "prediction = model.predict(Y)\n",
        "print(\"Cluster number :\", prediction)"
      ]
    },
    {
      "cell_type": "code",
      "execution_count": 21,
      "metadata": {
        "id": "SFDaAt-bvmyj",
        "colab": {
          "base_uri": "https://localhost:8080/",
          "height": 293
        },
        "outputId": "ea4e2258-4911-4899-dbae-b211e9d96315"
      },
      "outputs": [
        {
          "output_type": "display_data",
          "data": {
            "text/plain": [
              "<Figure size 432x288 with 1 Axes>"
            ],
            "image/png": "[encoded data removed]"
          },
          "metadata": {
            "needs_background": "light"
          }
        }
      ],
      "source": [
        "import scipy.cluster.hierarchy as sch\n",
        "X = cv.fit_transform(documents_clean).todense()\n",
        "dendrogram = sch.dendrogram(sch.linkage(X, method = 'ward',metric='euclidean'),orientation=\"top\")\n",
        "plt.title('Dendrogram')\n",
        "plt.xlabel('Jarak Ward')\n",
        "plt.ylabel('Nomor Dokumen')\n",
        "plt.show()"
      ]
    },
    {
      "cell_type": "code",
      "execution_count": 22,
      "metadata": {
        "id": "VwUsxwctvp2K",
        "colab": {
          "base_uri": "https://localhost:8080/",
          "height": 295
        },
        "outputId": "431ba6c9-8b86-49da-ba42-c62af92d280d"
      },
      "outputs": [
        {
          "output_type": "display_data",
          "data": {
            "text/plain": [
              "<Figure size 432x288 with 1 Axes>"
            ],
            "image/png": "[encoded data removed]"
          },
          "metadata": {
            "needs_background": "light"
          }
        }
      ],
      "source": [
        "import scipy.cluster.hierarchy as sch\n",
        "X = cv.fit_transform(documents_clean).todense()\n",
        "dendrogram = sch.dendrogram(sch.linkage(X, method = 'average',metric='euclidean'),orientation=\"right\")\n",
        "plt.title('Dendrogram')\n",
        "plt.xlabel('Jarak Rerata')\n",
        "plt.ylabel('Nomor Dokumen')\n",
        "plt.show()"
      ]
    },
    {
      "cell_type": "code",
      "execution_count": 23,
      "metadata": {
        "id": "KEqnykw7vu-b",
        "colab": {
          "base_uri": "https://localhost:8080/"
        },
        "outputId": "9f5ee5d3-7371-4242-8378-722d4fb5d310"
      },
      "outputs": [
        {
          "output_type": "stream",
          "name": "stdout",
          "text": [
            "[0 0 1 0 1 1 1 0 1 0 0 1 5 1 1 1 1 0 1 0 1 1 0 1 2 4 1 0 0 1 1 1 1 1 0 1 1\n",
            " 1 1 3 1 1 0 1 1 0 0 1 1 1 1 1 1 1]\n"
          ]
        },
        {
          "output_type": "stream",
          "name": "stderr",
          "text": [
            "/usr/local/lib/python3.7/dist-packages/sklearn/utils/validation.py:598: FutureWarning: np.matrix usage is deprecated in 1.0 and will raise a TypeError in 1.2. Please convert to a numpy array with np.asarray. For more information see: https://numpy.org/doc/stable/reference/generated/numpy.matrix.html\n",
            "  FutureWarning,\n"
          ]
        }
      ],
      "source": [
        "from sklearn.cluster import AgglomerativeClustering\n",
        "\n",
        "cluster = AgglomerativeClustering(n_clusters=6, affinity='euclidean', linkage='ward')  \n",
        "cluster.fit_predict(X) \n",
        "print(cluster.labels_)"
      ]
    },
    {
      "cell_type": "code",
      "execution_count": 25,
      "metadata": {
        "id": "JW6r6Uaxv0ud",
        "colab": {
          "base_uri": "https://localhost:8080/",
          "height": 426
        },
        "outputId": "e41f32be-0662-4055-adc3-43f7b3bc6aaf"
      },
      "outputs": [
        {
          "output_type": "display_data",
          "data": {
            "text/plain": [
              "<Figure size 720x504 with 1 Axes>"
            ],
            "image/png": "[encoded data removed]"
          },
          "metadata": {
            "needs_background": "light"
          }
        }
      ],
      "source": [
        "from scipy.cluster.hierarchy import dendrogram, linkage\n",
        "from matplotlib import pyplot as plt\n",
        "\n",
        "linked = linkage(X, 'single')\n",
        "\n",
        "labelList = range(0, len(cluster.labels_))\n",
        "\n",
        "plt.figure(figsize=(10, 7))\n",
        "dendrogram(linked,\n",
        "            orientation='top',\n",
        "            labels=labelList,\n",
        "            distance_sort='descending',\n",
        "            show_leaf_counts=True)\n",
        "plt.show()"
      ]
    },
    {
      "cell_type": "code",
      "source": [
        "from scipy.cluster.hierarchy import dendrogram, linkage\n",
        "from matplotlib import pyplot as plt\n",
        "\n",
        "linked = linkage(X, 'average')\n",
        "\n",
        "labelList = range(0, len(cluster.labels_))\n",
        "\n",
        "plt.figure(figsize=(10, 7))\n",
        "dendrogram(linked,\n",
        "            orientation='top',\n",
        "            labels=labelList,\n",
        "            distance_sort='descending',\n",
        "            show_leaf_counts=True);\n",
        "plt.show()"
      ],
      "metadata": {
        "colab": {
          "base_uri": "https://localhost:8080/",
          "height": 426
        },
        "id": "CfsZGZZe7vXo",
        "outputId": "5bd31be1-8c7e-4660-8904-1f1c56635c3c"
      },
      "execution_count": 26,
      "outputs": [
        {
          "output_type": "display_data",
          "data": {
            "text/plain": [
              "<Figure size 720x504 with 1 Axes>"
            ],
            "image/png": "[encoded data removed]"
          },
          "metadata": {
            "needs_background": "light"
          }
        }
      ]
    }
  ],
  "metadata": {
    "colab": {
      "provenance": [],
      "collapsed_sections": []
    },
    "kernelspec": {
      "display_name": "Python 3",
      "name": "python3"
    },
    "language_info": {
      "name": "python"
    }
  },
  "nbformat": 4,
  "nbformat_minor": 0
}